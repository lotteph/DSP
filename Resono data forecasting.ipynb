{
 "cells": [
  {
   "cell_type": "markdown",
   "id": "10894d27",
   "metadata": {},
   "source": [
    "# Forecasting in Vondelpark using Resono data"
   ]
  },
  {
   "cell_type": "code",
   "execution_count": 8,
   "id": "45aa540e",
   "metadata": {},
   "outputs": [],
   "source": [
    "import matplotlib.pyplot as plt\n",
    "import pandas as pd\n",
    "import numpy as np\n",
    "import glob\n",
    "from sklearn.metrics import mean_squared_error\n",
    "from statsmodels.tsa.api import ExponentialSmoothing, SimpleExpSmoothing, Holt\n",
    "from statsmodels.graphics.tsaplots import plot_acf, plot_pacf"
   ]
  },
  {
   "cell_type": "markdown",
   "id": "89fb0ac0",
   "metadata": {},
   "source": [
    "Load all the Resono data from 18-10-2020 and filter for one location, in this case Vondelpark West."
   ]
  },
  {
   "cell_type": "code",
   "execution_count": 9,
   "id": "7a7616c6",
   "metadata": {
    "scrolled": true
   },
   "outputs": [
    {
     "data": {
      "text/html": [
       "<div>\n",
       "<style scoped>\n",
       "    .dataframe tbody tr th:only-of-type {\n",
       "        vertical-align: middle;\n",
       "    }\n",
       "\n",
       "    .dataframe tbody tr th {\n",
       "        vertical-align: top;\n",
       "    }\n",
       "\n",
       "    .dataframe thead th {\n",
       "        text-align: right;\n",
       "    }\n",
       "</style>\n",
       "<table border=\"1\" class=\"dataframe\">\n",
       "  <thead>\n",
       "    <tr style=\"text-align: right;\">\n",
       "      <th></th>\n",
       "      <th>Location</th>\n",
       "      <th>Locationcode</th>\n",
       "      <th>Resono-ID</th>\n",
       "      <th>Start</th>\n",
       "      <th>End</th>\n",
       "      <th>Visits</th>\n",
       "    </tr>\n",
       "  </thead>\n",
       "  <tbody>\n",
       "    <tr>\n",
       "      <th>80</th>\n",
       "      <td>Vondelpark West</td>\n",
       "      <td>2deaade4-d687-47da-8c86-12c3f070f3d5</td>\n",
       "      <td>rcd23080</td>\n",
       "      <td>2020-10-10T00:00:00+00:00</td>\n",
       "      <td>2020-10-10T00:14:59+00:00</td>\n",
       "      <td>47</td>\n",
       "    </tr>\n",
       "    <tr>\n",
       "      <th>345</th>\n",
       "      <td>Vondelpark West</td>\n",
       "      <td>2deaade4-d687-47da-8c86-12c3f070f3d5</td>\n",
       "      <td>rcd23080</td>\n",
       "      <td>2020-10-10T00:00:00+00:00</td>\n",
       "      <td>2020-10-10T00:14:59+00:00</td>\n",
       "      <td>47</td>\n",
       "    </tr>\n",
       "    <tr>\n",
       "      <th>346</th>\n",
       "      <td>Vondelpark West</td>\n",
       "      <td>2deaade4-d687-47da-8c86-12c3f070f3d5</td>\n",
       "      <td>rcd23080</td>\n",
       "      <td>2020-10-10T00:15:00+00:00</td>\n",
       "      <td>2020-10-10T00:29:59+00:00</td>\n",
       "      <td>92</td>\n",
       "    </tr>\n",
       "    <tr>\n",
       "      <th>795</th>\n",
       "      <td>Vondelpark West</td>\n",
       "      <td>2deaade4-d687-47da-8c86-12c3f070f3d5</td>\n",
       "      <td>rcd23080</td>\n",
       "      <td>2020-10-10T00:00:00+00:00</td>\n",
       "      <td>2020-10-10T00:14:59+00:00</td>\n",
       "      <td>47</td>\n",
       "    </tr>\n",
       "    <tr>\n",
       "      <th>796</th>\n",
       "      <td>Vondelpark West</td>\n",
       "      <td>2deaade4-d687-47da-8c86-12c3f070f3d5</td>\n",
       "      <td>rcd23080</td>\n",
       "      <td>2020-10-10T00:15:00+00:00</td>\n",
       "      <td>2020-10-10T00:29:59+00:00</td>\n",
       "      <td>92</td>\n",
       "    </tr>\n",
       "    <tr>\n",
       "      <th>...</th>\n",
       "      <td>...</td>\n",
       "      <td>...</td>\n",
       "      <td>...</td>\n",
       "      <td>...</td>\n",
       "      <td>...</td>\n",
       "      <td>...</td>\n",
       "    </tr>\n",
       "    <tr>\n",
       "      <th>833715</th>\n",
       "      <td>Vondelpark West</td>\n",
       "      <td>2deaade4-d687-47da-8c86-12c3f070f3d5</td>\n",
       "      <td>rcd23080</td>\n",
       "      <td>2020-10-10T22:30:00+00:00</td>\n",
       "      <td>2020-10-10T22:44:59+00:00</td>\n",
       "      <td>157</td>\n",
       "    </tr>\n",
       "    <tr>\n",
       "      <th>833716</th>\n",
       "      <td>Vondelpark West</td>\n",
       "      <td>2deaade4-d687-47da-8c86-12c3f070f3d5</td>\n",
       "      <td>rcd23080</td>\n",
       "      <td>2020-10-10T22:45:00+00:00</td>\n",
       "      <td>2020-10-10T22:59:59+00:00</td>\n",
       "      <td>124</td>\n",
       "    </tr>\n",
       "    <tr>\n",
       "      <th>833717</th>\n",
       "      <td>Vondelpark West</td>\n",
       "      <td>2deaade4-d687-47da-8c86-12c3f070f3d5</td>\n",
       "      <td>rcd23080</td>\n",
       "      <td>2020-10-10T23:00:00+00:00</td>\n",
       "      <td>2020-10-10T23:14:59+00:00</td>\n",
       "      <td>96</td>\n",
       "    </tr>\n",
       "    <tr>\n",
       "      <th>833718</th>\n",
       "      <td>Vondelpark West</td>\n",
       "      <td>2deaade4-d687-47da-8c86-12c3f070f3d5</td>\n",
       "      <td>rcd23080</td>\n",
       "      <td>2020-10-10T23:15:00+00:00</td>\n",
       "      <td>2020-10-10T23:29:59+00:00</td>\n",
       "      <td>101</td>\n",
       "    </tr>\n",
       "    <tr>\n",
       "      <th>833719</th>\n",
       "      <td>Vondelpark West</td>\n",
       "      <td>2deaade4-d687-47da-8c86-12c3f070f3d5</td>\n",
       "      <td>rcd23080</td>\n",
       "      <td>2020-10-10T23:30:00+00:00</td>\n",
       "      <td>2020-10-10T23:44:59+00:00</td>\n",
       "      <td>77</td>\n",
       "    </tr>\n",
       "  </tbody>\n",
       "</table>\n",
       "<p>4560 rows × 6 columns</p>\n",
       "</div>"
      ],
      "text/plain": [
       "               Location                          Locationcode Resono-ID  \\\n",
       "80      Vondelpark West  2deaade4-d687-47da-8c86-12c3f070f3d5  rcd23080   \n",
       "345     Vondelpark West  2deaade4-d687-47da-8c86-12c3f070f3d5  rcd23080   \n",
       "346     Vondelpark West  2deaade4-d687-47da-8c86-12c3f070f3d5  rcd23080   \n",
       "795     Vondelpark West  2deaade4-d687-47da-8c86-12c3f070f3d5  rcd23080   \n",
       "796     Vondelpark West  2deaade4-d687-47da-8c86-12c3f070f3d5  rcd23080   \n",
       "...                 ...                                   ...       ...   \n",
       "833715  Vondelpark West  2deaade4-d687-47da-8c86-12c3f070f3d5  rcd23080   \n",
       "833716  Vondelpark West  2deaade4-d687-47da-8c86-12c3f070f3d5  rcd23080   \n",
       "833717  Vondelpark West  2deaade4-d687-47da-8c86-12c3f070f3d5  rcd23080   \n",
       "833718  Vondelpark West  2deaade4-d687-47da-8c86-12c3f070f3d5  rcd23080   \n",
       "833719  Vondelpark West  2deaade4-d687-47da-8c86-12c3f070f3d5  rcd23080   \n",
       "\n",
       "                            Start                        End Visits  \n",
       "80      2020-10-10T00:00:00+00:00  2020-10-10T00:14:59+00:00     47  \n",
       "345     2020-10-10T00:00:00+00:00  2020-10-10T00:14:59+00:00     47  \n",
       "346     2020-10-10T00:15:00+00:00  2020-10-10T00:29:59+00:00     92  \n",
       "795     2020-10-10T00:00:00+00:00  2020-10-10T00:14:59+00:00     47  \n",
       "796     2020-10-10T00:15:00+00:00  2020-10-10T00:29:59+00:00     92  \n",
       "...                           ...                        ...    ...  \n",
       "833715  2020-10-10T22:30:00+00:00  2020-10-10T22:44:59+00:00    157  \n",
       "833716  2020-10-10T22:45:00+00:00  2020-10-10T22:59:59+00:00    124  \n",
       "833717  2020-10-10T23:00:00+00:00  2020-10-10T23:14:59+00:00     96  \n",
       "833718  2020-10-10T23:15:00+00:00  2020-10-10T23:29:59+00:00    101  \n",
       "833719  2020-10-10T23:30:00+00:00  2020-10-10T23:44:59+00:00     77  \n",
       "\n",
       "[4560 rows x 6 columns]"
      ]
     },
     "execution_count": 9,
     "metadata": {},
     "output_type": "execute_result"
    }
   ],
   "source": [
    "path = \"Data/Resono/2020-10-18/10/\"\n",
    "filenames = glob.glob(path + \"*.csv\")\n",
    "resono_data = pd.concat((pd.read_csv(file) for file in filenames), ignore_index = True)\n",
    "vondelpark = resono_data[(resono_data['Location'] == 'Vondelpark West')]\n",
    "vondelpark"
   ]
  },
  {
   "cell_type": "markdown",
   "id": "9b917e4c",
   "metadata": {},
   "source": [
    "Preprocess the data by dropping duplicates, converting the date to datetime and dropping unnecessary columns. For now we only use the time and the amount of visits during that time. "
   ]
  },
  {
   "cell_type": "code",
   "execution_count": 10,
   "id": "17b3ec37",
   "metadata": {},
   "outputs": [
    {
     "data": {
      "text/html": [
       "<div>\n",
       "<style scoped>\n",
       "    .dataframe tbody tr th:only-of-type {\n",
       "        vertical-align: middle;\n",
       "    }\n",
       "\n",
       "    .dataframe tbody tr th {\n",
       "        vertical-align: top;\n",
       "    }\n",
       "\n",
       "    .dataframe thead th {\n",
       "        text-align: right;\n",
       "    }\n",
       "</style>\n",
       "<table border=\"1\" class=\"dataframe\">\n",
       "  <thead>\n",
       "    <tr style=\"text-align: right;\">\n",
       "      <th></th>\n",
       "      <th>Visits</th>\n",
       "    </tr>\n",
       "    <tr>\n",
       "      <th>datetime</th>\n",
       "      <th></th>\n",
       "    </tr>\n",
       "  </thead>\n",
       "  <tbody>\n",
       "    <tr>\n",
       "      <th>2020-10-10 00:00:00+00:00</th>\n",
       "      <td>47</td>\n",
       "    </tr>\n",
       "    <tr>\n",
       "      <th>2020-10-10 00:15:00+00:00</th>\n",
       "      <td>92</td>\n",
       "    </tr>\n",
       "    <tr>\n",
       "      <th>2020-10-10 00:30:00+00:00</th>\n",
       "      <td>72</td>\n",
       "    </tr>\n",
       "    <tr>\n",
       "      <th>2020-10-10 00:45:00+00:00</th>\n",
       "      <td>55</td>\n",
       "    </tr>\n",
       "    <tr>\n",
       "      <th>2020-10-10 01:00:00+00:00</th>\n",
       "      <td>50</td>\n",
       "    </tr>\n",
       "    <tr>\n",
       "      <th>...</th>\n",
       "      <td>...</td>\n",
       "    </tr>\n",
       "    <tr>\n",
       "      <th>2020-10-10 22:30:00+00:00</th>\n",
       "      <td>157</td>\n",
       "    </tr>\n",
       "    <tr>\n",
       "      <th>2020-10-10 22:45:00+00:00</th>\n",
       "      <td>124</td>\n",
       "    </tr>\n",
       "    <tr>\n",
       "      <th>2020-10-10 23:00:00+00:00</th>\n",
       "      <td>96</td>\n",
       "    </tr>\n",
       "    <tr>\n",
       "      <th>2020-10-10 23:15:00+00:00</th>\n",
       "      <td>101</td>\n",
       "    </tr>\n",
       "    <tr>\n",
       "      <th>2020-10-10 23:30:00+00:00</th>\n",
       "      <td>77</td>\n",
       "    </tr>\n",
       "  </tbody>\n",
       "</table>\n",
       "<p>146 rows × 1 columns</p>\n",
       "</div>"
      ],
      "text/plain": [
       "                          Visits\n",
       "datetime                        \n",
       "2020-10-10 00:00:00+00:00     47\n",
       "2020-10-10 00:15:00+00:00     92\n",
       "2020-10-10 00:30:00+00:00     72\n",
       "2020-10-10 00:45:00+00:00     55\n",
       "2020-10-10 01:00:00+00:00     50\n",
       "...                          ...\n",
       "2020-10-10 22:30:00+00:00    157\n",
       "2020-10-10 22:45:00+00:00    124\n",
       "2020-10-10 23:00:00+00:00     96\n",
       "2020-10-10 23:15:00+00:00    101\n",
       "2020-10-10 23:30:00+00:00     77\n",
       "\n",
       "[146 rows x 1 columns]"
      ]
     },
     "execution_count": 10,
     "metadata": {},
     "output_type": "execute_result"
    }
   ],
   "source": [
    "df = vondelpark.copy()\n",
    "df = df.drop_duplicates() \n",
    "df['datetime'] = pd.to_datetime(df[\"Start\"])\n",
    "df = df.sort_values(by = 'datetime', ascending = True)\n",
    "df = df.set_index('datetime')\n",
    "df = df.drop(['Location', 'Locationcode', 'Resono-ID', 'Start', 'End'], axis=1)\n",
    "df"
   ]
  },
  {
   "cell_type": "markdown",
   "id": "74d505f8",
   "metadata": {},
   "source": [
    "Because this data is formatted as datetime, we use a forecasting model to predict the last two hours of our data. The model is Holt-Winters, so exponential smoothing with seasonal trend, and because our data is collected every 15 minutes, we use a seasonal period of 4."
   ]
  },
  {
   "cell_type": "code",
   "execution_count": 11,
   "id": "cc8ae52e",
   "metadata": {},
   "outputs": [
    {
     "name": "stderr",
     "output_type": "stream",
     "text": [
      "C:\\Users\\lotte\\anaconda3\\lib\\site-packages\\statsmodels\\tsa\\holtwinters\\model.py:427: FutureWarning: After 0.13 initialization must be handled at model creation\n",
      "  warnings.warn(\n"
     ]
    }
   ],
   "source": [
    "train = df[:-8]\n",
    "test = df[-8:]\n",
    "\n",
    "model = ExponentialSmoothing(np.asarray(train), seasonal_periods=4, trend='add', seasonal='add')\n",
    "fitted = model.fit()\n",
    "fc = fitted.forecast(len(test))"
   ]
  },
  {
   "cell_type": "code",
   "execution_count": 12,
   "id": "17d2cb58",
   "metadata": {},
   "outputs": [
    {
     "data": {
      "text/html": [
       "<div>\n",
       "<style scoped>\n",
       "    .dataframe tbody tr th:only-of-type {\n",
       "        vertical-align: middle;\n",
       "    }\n",
       "\n",
       "    .dataframe tbody tr th {\n",
       "        vertical-align: top;\n",
       "    }\n",
       "\n",
       "    .dataframe thead th {\n",
       "        text-align: right;\n",
       "    }\n",
       "</style>\n",
       "<table border=\"1\" class=\"dataframe\">\n",
       "  <thead>\n",
       "    <tr style=\"text-align: right;\">\n",
       "      <th></th>\n",
       "      <th>Visits</th>\n",
       "    </tr>\n",
       "    <tr>\n",
       "      <th>datetime</th>\n",
       "      <th></th>\n",
       "    </tr>\n",
       "  </thead>\n",
       "  <tbody>\n",
       "    <tr>\n",
       "      <th>2020-10-10 22:00:00+00:00</th>\n",
       "      <td>125.401592</td>\n",
       "    </tr>\n",
       "    <tr>\n",
       "      <th>2020-10-10 22:15:00+00:00</th>\n",
       "      <td>146.923745</td>\n",
       "    </tr>\n",
       "    <tr>\n",
       "      <th>2020-10-10 22:15:00+00:00</th>\n",
       "      <td>140.081402</td>\n",
       "    </tr>\n",
       "    <tr>\n",
       "      <th>2020-10-10 22:30:00+00:00</th>\n",
       "      <td>127.579066</td>\n",
       "    </tr>\n",
       "    <tr>\n",
       "      <th>2020-10-10 22:45:00+00:00</th>\n",
       "      <td>102.418944</td>\n",
       "    </tr>\n",
       "    <tr>\n",
       "      <th>2020-10-10 23:00:00+00:00</th>\n",
       "      <td>123.941096</td>\n",
       "    </tr>\n",
       "    <tr>\n",
       "      <th>2020-10-10 23:15:00+00:00</th>\n",
       "      <td>117.098754</td>\n",
       "    </tr>\n",
       "    <tr>\n",
       "      <th>2020-10-10 23:30:00+00:00</th>\n",
       "      <td>104.596417</td>\n",
       "    </tr>\n",
       "  </tbody>\n",
       "</table>\n",
       "</div>"
      ],
      "text/plain": [
       "                               Visits\n",
       "datetime                             \n",
       "2020-10-10 22:00:00+00:00  125.401592\n",
       "2020-10-10 22:15:00+00:00  146.923745\n",
       "2020-10-10 22:15:00+00:00  140.081402\n",
       "2020-10-10 22:30:00+00:00  127.579066\n",
       "2020-10-10 22:45:00+00:00  102.418944\n",
       "2020-10-10 23:00:00+00:00  123.941096\n",
       "2020-10-10 23:15:00+00:00  117.098754\n",
       "2020-10-10 23:30:00+00:00  104.596417"
      ]
     },
     "execution_count": 12,
     "metadata": {},
     "output_type": "execute_result"
    }
   ],
   "source": [
    "fc = pd.DataFrame(fc)\n",
    "fc[\"datetime\"] = test.index\n",
    "fc = fc.set_index('datetime')\n",
    "fc = fc.rename(columns = {0 : \"Visits\"})\n",
    "fc"
   ]
  },
  {
   "cell_type": "markdown",
   "id": "211decd3",
   "metadata": {},
   "source": [
    "We plot the data and the forecasts to see how our model did. We also calculate the RMSE."
   ]
  },
  {
   "cell_type": "code",
   "execution_count": 13,
   "id": "92670815",
   "metadata": {},
   "outputs": [
    {
     "data": {
      "image/png": "[encoded data removed]",
      "text/plain": [
       "<Figure size 432x288 with 1 Axes>"
      ]
     },
     "metadata": {
      "needs_background": "light"
     },
     "output_type": "display_data"
    }
   ],
   "source": [
    "plt.plot(train, label='Train')\n",
    "plt.plot(test, label='Test')\n",
    "plt.plot(fc, label='Holt_Winter')\n",
    "plt.legend(loc='best')\n",
    "plt.show()"
   ]
  },
  {
   "cell_type": "code",
   "execution_count": 14,
   "id": "17aba57d",
   "metadata": {},
   "outputs": [
    {
     "data": {
      "text/plain": [
       "27.73218857160121"
      ]
     },
     "execution_count": 14,
     "metadata": {},
     "output_type": "execute_result"
    }
   ],
   "source": [
    "np.sqrt(mean_squared_error(test, fc))"
   ]
  },
  {
   "cell_type": "code",
   "execution_count": null,
   "id": "cc1288b5",
   "metadata": {},
   "outputs": [],
   "source": []
  }
 ],
 "metadata": {
  "kernelspec": {
   "display_name": "Python 3",
   "language": "python",
   "name": "python3"
  },
  "language_info": {
   "codemirror_mode": {
    "name": "ipython",
    "version": 3
   },
   "file_extension": ".py",
   "mimetype": "text/x-python",
   "name": "python",
   "nbconvert_exporter": "python",
   "pygments_lexer": "ipython3",
   "version": "3.8.8"
  }
 },
 "nbformat": 4,
 "nbformat_minor": 5
}
