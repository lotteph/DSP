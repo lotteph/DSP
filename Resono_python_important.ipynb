{
 "cells": [
  {
   "cell_type": "code",
   "execution_count": null,
   "id": "3709c003",
   "metadata": {},
   "outputs": [],
   "source": [
    "import pandas as pd\n",
    "import numpy as np\n",
    "import matplotlib.pyplot as plt\n",
    "import seaborn as sns\n",
    "import glob\n",
    "import os\n",
    "import datetime as dt"
   ]
  },
  {
   "cell_type": "markdown",
   "id": "036db346",
   "metadata": {},
   "source": [
    "# Grab All data files and pick only Vondelpark data"
   ]
  },
  {
   "cell_type": "code",
   "execution_count": null,
   "id": "332a28a1",
   "metadata": {},
   "outputs": [],
   "source": [
    "#WINDOWS\n",
    "#files = glob.glob(r'Resono 2020-10\\*\\*\\*.csv')\n",
    "#MAC\n",
    "files = glob.glob(r'Resono 2020-10/*/*/*.csv')\n",
    "files[:5]"
   ]
  },
  {
   "cell_type": "code",
   "execution_count": null,
   "id": "1e473480",
   "metadata": {},
   "outputs": [],
   "source": [
    "resono_data = pd.concat( (pd.read_csv(file) for file in files), ignore_index = True)\n",
    "resono_data.head(10)"
   ]
  },
  {
   "cell_type": "code",
   "execution_count": null,
   "id": "78515a6b",
   "metadata": {},
   "outputs": [],
   "source": [
    "# Missing value? Where is start 23:45?\n",
    "df = resono_data.copy()\n",
    "df.drop_duplicates(inplace=True)\n",
    "df[df['Location'] == 'Oosterpark'].sort_values(by=\"Start\")"
   ]
  },
  {
   "cell_type": "code",
   "execution_count": null,
   "id": "517b4be7",
   "metadata": {},
   "outputs": [],
   "source": [
    "# Some entries are duplicate, so we need to take the average\n",
    "df_average_visits = df \n",
    "df_average_visits['Start'] = pd.to_datetime(df_average_visits['Start'])\n",
    "df_average_visits = df_average_visits.groupby(['Location', 'Start']).mean().reset_index()\n",
    "df_average_visits['End'] = df_average_visits['Start'] + dt.timedelta(minutes=14, seconds=59)\n",
    "df_average_visits"
   ]
  },
  {
   "cell_type": "code",
   "execution_count": null,
   "id": "23caac7b",
   "metadata": {},
   "outputs": [],
   "source": [
    "df_average_visits_oosterpark = df_average_visits[df_average_visits['Location'] == 'Oosterpark']\n",
    "df_average_visits_oosterpark['StartTime'] = df_average_visits_oosterpark['Start'].dt.time\n",
    "#df_average_visits_oosterpark['StartTime'] = df_average_visits_oosterpark['StartTime'] + dt.timedelta(minutes=0, seconds=59)"
   ]
  },
  {
   "cell_type": "code",
   "execution_count": null,
   "id": "a7be0d51",
   "metadata": {},
   "outputs": [],
   "source": [
    "sns.set(rc = {'figure.figsize':(15,8)})\n",
    "sns.lineplot(data=df_average_visits_oosterpark, x=\"Start\", y = \"Visits\");"
   ]
  }
 ],
 "metadata": {
  "kernelspec": {
   "display_name": "Python 3 (ipykernel)",
   "language": "python",
   "name": "python3"
  },
  "language_info": {
   "codemirror_mode": {
    "name": "ipython",
    "version": 3
   },
   "file_extension": ".py",
   "mimetype": "text/x-python",
   "name": "python",
   "nbconvert_exporter": "python",
   "pygments_lexer": "ipython3",
   "version": "3.7.10"
  }
 },
 "nbformat": 4,
 "nbformat_minor": 5
}
