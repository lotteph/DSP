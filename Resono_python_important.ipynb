{
 "cells": [
  {
   "cell_type": "code",
   "execution_count": 2,
   "id": "3709c003",
   "metadata": {},
   "outputs": [],
   "source": [
    "import pandas as pd\n",
    "import numpy as np\n",
    "import matplotlib.pyplot as plt\n",
    "import seaborn as sns\n",
    "import glob\n",
    "import os\n",
    "import datetime as dt"
   ]
  },
  {
   "cell_type": "markdown",
   "id": "036db346",
   "metadata": {},
   "source": [
    "# Grab All data files and pick only Vondelpark data"
   ]
  },
  {
   "cell_type": "code",
   "execution_count": 3,
   "id": "332a28a1",
   "metadata": {},
   "outputs": [
    {
     "data": {
      "text/plain": [
       "['Resono 2020-10\\\\2020-10-18\\\\10\\\\2020-10-10T000222+0000_totalsper15minutes.csv',\n",
       " 'Resono 2020-10\\\\2020-10-18\\\\10\\\\2020-10-10T001722+0000_totalsper15minutes.csv',\n",
       " 'Resono 2020-10\\\\2020-10-18\\\\10\\\\2020-10-10T003222+0000_totalsper15minutes.csv',\n",
       " 'Resono 2020-10\\\\2020-10-18\\\\10\\\\2020-10-10T004721+0000_totalsper15minutes.csv',\n",
       " 'Resono 2020-10\\\\2020-10-18\\\\10\\\\2020-10-10T010239+0000_totalsper15minutes.csv']"
      ]
     },
     "execution_count": 3,
     "metadata": {},
     "output_type": "execute_result"
    }
   ],
   "source": [
    "#WINDOWS\n",
    "#files = glob.glob(r'Resono 2020-10\\*\\*\\*.csv')\n",
    "#MAC\n",
    "files = glob.glob(r'Resono 2020-10/*/*/*.csv')\n",
    "files[:5]"
   ]
  },
  {
   "cell_type": "code",
   "execution_count": 4,
   "id": "1e473480",
   "metadata": {},
   "outputs": [
    {
     "data": {
      "text/html": [
       "<div>\n",
       "<style scoped>\n",
       "    .dataframe tbody tr th:only-of-type {\n",
       "        vertical-align: middle;\n",
       "    }\n",
       "\n",
       "    .dataframe tbody tr th {\n",
       "        vertical-align: top;\n",
       "    }\n",
       "\n",
       "    .dataframe thead th {\n",
       "        text-align: right;\n",
       "    }\n",
       "</style>\n",
       "<table border=\"1\" class=\"dataframe\">\n",
       "  <thead>\n",
       "    <tr style=\"text-align: right;\">\n",
       "      <th></th>\n",
       "      <th>Location</th>\n",
       "      <th>Locationcode</th>\n",
       "      <th>Resono-ID</th>\n",
       "      <th>Start</th>\n",
       "      <th>End</th>\n",
       "      <th>Visits</th>\n",
       "    </tr>\n",
       "  </thead>\n",
       "  <tbody>\n",
       "    <tr>\n",
       "      <th>0</th>\n",
       "      <td>Planciusbuurt Zuid</td>\n",
       "      <td>d872f67c-7de3-46b5-b937-664a37f115d2</td>\n",
       "      <td>rcd23000</td>\n",
       "      <td>2020-10-10T00:00:00+00:00</td>\n",
       "      <td>2020-10-10T00:14:59+00:00</td>\n",
       "      <td>91</td>\n",
       "    </tr>\n",
       "    <tr>\n",
       "      <th>1</th>\n",
       "      <td>Marnixbuurt Midden</td>\n",
       "      <td>16bcceb8-e25b-423c-9d28-a13e9f62ae28</td>\n",
       "      <td>rcd23001</td>\n",
       "      <td>2020-10-10T00:00:00+00:00</td>\n",
       "      <td>2020-10-10T00:14:59+00:00</td>\n",
       "      <td>327</td>\n",
       "    </tr>\n",
       "    <tr>\n",
       "      <th>2</th>\n",
       "      <td>Planciusbuurt Noord</td>\n",
       "      <td>0f586a2f-da0b-4c9c-9df5-735be406a12f</td>\n",
       "      <td>rcd23002</td>\n",
       "      <td>2020-10-10T00:00:00+00:00</td>\n",
       "      <td>2020-10-10T00:14:59+00:00</td>\n",
       "      <td>79</td>\n",
       "    </tr>\n",
       "    <tr>\n",
       "      <th>3</th>\n",
       "      <td>Kleine Gartmanplantsoen</td>\n",
       "      <td>0b10410a-5fb8-4569-834a-b468c5f73bcb</td>\n",
       "      <td>rcd23003</td>\n",
       "      <td>2020-10-10T00:00:00+00:00</td>\n",
       "      <td>2020-10-10T00:14:59+00:00</td>\n",
       "      <td>28</td>\n",
       "    </tr>\n",
       "    <tr>\n",
       "      <th>4</th>\n",
       "      <td>Leidsebuurt Noordwest</td>\n",
       "      <td>0cb89475-37a2-44d8-b448-a7ad33c68765</td>\n",
       "      <td>rcd23004</td>\n",
       "      <td>2020-10-10T00:00:00+00:00</td>\n",
       "      <td>2020-10-10T00:14:59+00:00</td>\n",
       "      <td>20</td>\n",
       "    </tr>\n",
       "    <tr>\n",
       "      <th>5</th>\n",
       "      <td>Leidsebuurt Zuidwest</td>\n",
       "      <td>1b8e85a3-1d7d-44c3-844d-ccc8b43bd60d</td>\n",
       "      <td>rcd23005</td>\n",
       "      <td>2020-10-10T00:00:00+00:00</td>\n",
       "      <td>2020-10-10T00:14:59+00:00</td>\n",
       "      <td>39</td>\n",
       "    </tr>\n",
       "    <tr>\n",
       "      <th>6</th>\n",
       "      <td>Zaagpoortbuurt</td>\n",
       "      <td>9a35df3e-ce0e-4f1d-8190-4d8152f49ec4</td>\n",
       "      <td>rcd23006</td>\n",
       "      <td>2020-10-10T00:00:00+00:00</td>\n",
       "      <td>2020-10-10T00:14:59+00:00</td>\n",
       "      <td>261</td>\n",
       "    </tr>\n",
       "    <tr>\n",
       "      <th>7</th>\n",
       "      <td>Passeerdersgrachtbuurt</td>\n",
       "      <td>471adf28-d3bd-40a7-ab74-f76b2a384c68</td>\n",
       "      <td>rcd23007</td>\n",
       "      <td>2020-10-10T00:00:00+00:00</td>\n",
       "      <td>2020-10-10T00:14:59+00:00</td>\n",
       "      <td>31</td>\n",
       "    </tr>\n",
       "    <tr>\n",
       "      <th>8</th>\n",
       "      <td>De Dam West</td>\n",
       "      <td>1649595f-4d98-40dd-a6c9-14c742f589aa</td>\n",
       "      <td>rcd23008</td>\n",
       "      <td>2020-10-10T00:00:00+00:00</td>\n",
       "      <td>2020-10-10T00:14:59+00:00</td>\n",
       "      <td>66</td>\n",
       "    </tr>\n",
       "    <tr>\n",
       "      <th>9</th>\n",
       "      <td>Reguliersbuurt</td>\n",
       "      <td>3046e14f-20b2-4cb3-b7fa-792344900194</td>\n",
       "      <td>rcd23009</td>\n",
       "      <td>2020-10-10T00:00:00+00:00</td>\n",
       "      <td>2020-10-10T00:14:59+00:00</td>\n",
       "      <td>198</td>\n",
       "    </tr>\n",
       "  </tbody>\n",
       "</table>\n",
       "</div>"
      ],
      "text/plain": [
       "                  Location                          Locationcode Resono-ID  \\\n",
       "0       Planciusbuurt Zuid  d872f67c-7de3-46b5-b937-664a37f115d2  rcd23000   \n",
       "1       Marnixbuurt Midden  16bcceb8-e25b-423c-9d28-a13e9f62ae28  rcd23001   \n",
       "2      Planciusbuurt Noord  0f586a2f-da0b-4c9c-9df5-735be406a12f  rcd23002   \n",
       "3  Kleine Gartmanplantsoen  0b10410a-5fb8-4569-834a-b468c5f73bcb  rcd23003   \n",
       "4    Leidsebuurt Noordwest  0cb89475-37a2-44d8-b448-a7ad33c68765  rcd23004   \n",
       "5     Leidsebuurt Zuidwest  1b8e85a3-1d7d-44c3-844d-ccc8b43bd60d  rcd23005   \n",
       "6           Zaagpoortbuurt  9a35df3e-ce0e-4f1d-8190-4d8152f49ec4  rcd23006   \n",
       "7   Passeerdersgrachtbuurt  471adf28-d3bd-40a7-ab74-f76b2a384c68  rcd23007   \n",
       "8              De Dam West  1649595f-4d98-40dd-a6c9-14c742f589aa  rcd23008   \n",
       "9           Reguliersbuurt  3046e14f-20b2-4cb3-b7fa-792344900194  rcd23009   \n",
       "\n",
       "                       Start                        End Visits  \n",
       "0  2020-10-10T00:00:00+00:00  2020-10-10T00:14:59+00:00     91  \n",
       "1  2020-10-10T00:00:00+00:00  2020-10-10T00:14:59+00:00    327  \n",
       "2  2020-10-10T00:00:00+00:00  2020-10-10T00:14:59+00:00     79  \n",
       "3  2020-10-10T00:00:00+00:00  2020-10-10T00:14:59+00:00     28  \n",
       "4  2020-10-10T00:00:00+00:00  2020-10-10T00:14:59+00:00     20  \n",
       "5  2020-10-10T00:00:00+00:00  2020-10-10T00:14:59+00:00     39  \n",
       "6  2020-10-10T00:00:00+00:00  2020-10-10T00:14:59+00:00    261  \n",
       "7  2020-10-10T00:00:00+00:00  2020-10-10T00:14:59+00:00     31  \n",
       "8  2020-10-10T00:00:00+00:00  2020-10-10T00:14:59+00:00     66  \n",
       "9  2020-10-10T00:00:00+00:00  2020-10-10T00:14:59+00:00    198  "
      ]
     },
     "execution_count": 4,
     "metadata": {},
     "output_type": "execute_result"
    }
   ],
   "source": [
    "resono_data = pd.concat( (pd.read_csv(file) for file in files), ignore_index = True)\n",
    "resono_data.head(10)"
   ]
  },
  {
   "cell_type": "code",
   "execution_count": 5,
   "id": "78515a6b",
   "metadata": {},
   "outputs": [
    {
     "data": {
      "text/html": [
       "<div>\n",
       "<style scoped>\n",
       "    .dataframe tbody tr th:only-of-type {\n",
       "        vertical-align: middle;\n",
       "    }\n",
       "\n",
       "    .dataframe tbody tr th {\n",
       "        vertical-align: top;\n",
       "    }\n",
       "\n",
       "    .dataframe thead th {\n",
       "        text-align: right;\n",
       "    }\n",
       "</style>\n",
       "<table border=\"1\" class=\"dataframe\">\n",
       "  <thead>\n",
       "    <tr style=\"text-align: right;\">\n",
       "      <th></th>\n",
       "      <th>Location</th>\n",
       "      <th>Locationcode</th>\n",
       "      <th>Resono-ID</th>\n",
       "      <th>Start</th>\n",
       "      <th>End</th>\n",
       "      <th>Visits</th>\n",
       "    </tr>\n",
       "  </thead>\n",
       "  <tbody>\n",
       "    <tr>\n",
       "      <th>83</th>\n",
       "      <td>Oosterpark</td>\n",
       "      <td>f3b84e7c-a1c4-478c-9915-8c228e267bb5</td>\n",
       "      <td>rcd23083</td>\n",
       "      <td>2020-10-10T00:00:00+00:00</td>\n",
       "      <td>2020-10-10T00:14:59+00:00</td>\n",
       "      <td>128</td>\n",
       "    </tr>\n",
       "    <tr>\n",
       "      <th>2265</th>\n",
       "      <td>Oosterpark</td>\n",
       "      <td>f3b84e7c-a1c4-478c-9915-8c228e267bb5</td>\n",
       "      <td>rcd23083</td>\n",
       "      <td>2020-10-10T00:00:00+00:00</td>\n",
       "      <td>2020-10-10T00:14:59+00:00</td>\n",
       "      <td>145</td>\n",
       "    </tr>\n",
       "    <tr>\n",
       "      <th>352</th>\n",
       "      <td>Oosterpark</td>\n",
       "      <td>f3b84e7c-a1c4-478c-9915-8c228e267bb5</td>\n",
       "      <td>rcd23083</td>\n",
       "      <td>2020-10-10T00:15:00+00:00</td>\n",
       "      <td>2020-10-10T00:29:59+00:00</td>\n",
       "      <td>104</td>\n",
       "    </tr>\n",
       "    <tr>\n",
       "      <th>2266</th>\n",
       "      <td>Oosterpark</td>\n",
       "      <td>f3b84e7c-a1c4-478c-9915-8c228e267bb5</td>\n",
       "      <td>rcd23083</td>\n",
       "      <td>2020-10-10T00:15:00+00:00</td>\n",
       "      <td>2020-10-10T00:29:59+00:00</td>\n",
       "      <td>122</td>\n",
       "    </tr>\n",
       "    <tr>\n",
       "      <th>806</th>\n",
       "      <td>Oosterpark</td>\n",
       "      <td>f3b84e7c-a1c4-478c-9915-8c228e267bb5</td>\n",
       "      <td>rcd23083</td>\n",
       "      <td>2020-10-10T00:30:00+00:00</td>\n",
       "      <td>2020-10-10T00:44:59+00:00</td>\n",
       "      <td>85</td>\n",
       "    </tr>\n",
       "    <tr>\n",
       "      <th>...</th>\n",
       "      <td>...</td>\n",
       "      <td>...</td>\n",
       "      <td>...</td>\n",
       "      <td>...</td>\n",
       "      <td>...</td>\n",
       "      <td>...</td>\n",
       "    </tr>\n",
       "    <tr>\n",
       "      <th>782137</th>\n",
       "      <td>Oosterpark</td>\n",
       "      <td>f3b84e7c-a1c4-478c-9915-8c228e267bb5</td>\n",
       "      <td>rcd23083</td>\n",
       "      <td>2020-10-10T22:45:00+00:00</td>\n",
       "      <td>2020-10-10T22:59:59+00:00</td>\n",
       "      <td>158</td>\n",
       "    </tr>\n",
       "    <tr>\n",
       "      <th>799241</th>\n",
       "      <td>Oosterpark</td>\n",
       "      <td>f3b84e7c-a1c4-478c-9915-8c228e267bb5</td>\n",
       "      <td>rcd23083</td>\n",
       "      <td>2020-10-10T23:00:00+00:00</td>\n",
       "      <td>2020-10-10T23:14:59+00:00</td>\n",
       "      <td>206</td>\n",
       "    </tr>\n",
       "    <tr>\n",
       "      <th>816529</th>\n",
       "      <td>Oosterpark</td>\n",
       "      <td>f3b84e7c-a1c4-478c-9915-8c228e267bb5</td>\n",
       "      <td>rcd23083</td>\n",
       "      <td>2020-10-10T23:00:00+00:00</td>\n",
       "      <td>2020-10-10T23:14:59+00:00</td>\n",
       "      <td>238</td>\n",
       "    </tr>\n",
       "    <tr>\n",
       "      <th>816530</th>\n",
       "      <td>Oosterpark</td>\n",
       "      <td>f3b84e7c-a1c4-478c-9915-8c228e267bb5</td>\n",
       "      <td>rcd23083</td>\n",
       "      <td>2020-10-10T23:15:00+00:00</td>\n",
       "      <td>2020-10-10T23:29:59+00:00</td>\n",
       "      <td>200</td>\n",
       "    </tr>\n",
       "    <tr>\n",
       "      <th>834004</th>\n",
       "      <td>Oosterpark</td>\n",
       "      <td>f3b84e7c-a1c4-478c-9915-8c228e267bb5</td>\n",
       "      <td>rcd23083</td>\n",
       "      <td>2020-10-10T23:30:00+00:00</td>\n",
       "      <td>2020-10-10T23:44:59+00:00</td>\n",
       "      <td>153</td>\n",
       "    </tr>\n",
       "  </tbody>\n",
       "</table>\n",
       "<p>143 rows × 6 columns</p>\n",
       "</div>"
      ],
      "text/plain": [
       "          Location                          Locationcode Resono-ID  \\\n",
       "83      Oosterpark  f3b84e7c-a1c4-478c-9915-8c228e267bb5  rcd23083   \n",
       "2265    Oosterpark  f3b84e7c-a1c4-478c-9915-8c228e267bb5  rcd23083   \n",
       "352     Oosterpark  f3b84e7c-a1c4-478c-9915-8c228e267bb5  rcd23083   \n",
       "2266    Oosterpark  f3b84e7c-a1c4-478c-9915-8c228e267bb5  rcd23083   \n",
       "806     Oosterpark  f3b84e7c-a1c4-478c-9915-8c228e267bb5  rcd23083   \n",
       "...            ...                                   ...       ...   \n",
       "782137  Oosterpark  f3b84e7c-a1c4-478c-9915-8c228e267bb5  rcd23083   \n",
       "799241  Oosterpark  f3b84e7c-a1c4-478c-9915-8c228e267bb5  rcd23083   \n",
       "816529  Oosterpark  f3b84e7c-a1c4-478c-9915-8c228e267bb5  rcd23083   \n",
       "816530  Oosterpark  f3b84e7c-a1c4-478c-9915-8c228e267bb5  rcd23083   \n",
       "834004  Oosterpark  f3b84e7c-a1c4-478c-9915-8c228e267bb5  rcd23083   \n",
       "\n",
       "                            Start                        End Visits  \n",
       "83      2020-10-10T00:00:00+00:00  2020-10-10T00:14:59+00:00    128  \n",
       "2265    2020-10-10T00:00:00+00:00  2020-10-10T00:14:59+00:00    145  \n",
       "352     2020-10-10T00:15:00+00:00  2020-10-10T00:29:59+00:00    104  \n",
       "2266    2020-10-10T00:15:00+00:00  2020-10-10T00:29:59+00:00    122  \n",
       "806     2020-10-10T00:30:00+00:00  2020-10-10T00:44:59+00:00     85  \n",
       "...                           ...                        ...    ...  \n",
       "782137  2020-10-10T22:45:00+00:00  2020-10-10T22:59:59+00:00    158  \n",
       "799241  2020-10-10T23:00:00+00:00  2020-10-10T23:14:59+00:00    206  \n",
       "816529  2020-10-10T23:00:00+00:00  2020-10-10T23:14:59+00:00    238  \n",
       "816530  2020-10-10T23:15:00+00:00  2020-10-10T23:29:59+00:00    200  \n",
       "834004  2020-10-10T23:30:00+00:00  2020-10-10T23:44:59+00:00    153  \n",
       "\n",
       "[143 rows x 6 columns]"
      ]
     },
     "execution_count": 5,
     "metadata": {},
     "output_type": "execute_result"
    }
   ],
   "source": [
    "# Missing value? Where is start 23:45?\n",
    "df = resono_data.copy()\n",
    "df.drop_duplicates(inplace=True)\n",
    "df[df['Location'] == 'Oosterpark'].sort_values(by=\"Start\")"
   ]
  },
  {
   "cell_type": "code",
   "execution_count": 6,
   "id": "517b4be7",
   "metadata": {},
   "outputs": [
    {
     "name": "stderr",
     "output_type": "stream",
     "text": [
      "C:\\Users\\olivi\\anaconda3\\envs\\my-r-env\\lib\\site-packages\\IPython\\core\\interactiveshell.py:3441: FutureWarning: Dropping invalid columns in DataFrameGroupBy.mean is deprecated. In a future version, a TypeError will be raised. Before calling .mean, select only columns which should be valid for the function.\n",
      "  exec(code_obj, self.user_global_ns, self.user_ns)\n"
     ]
    }
   ],
   "source": [
    "# Some entries are duplicate, so we need to take the average\n",
    "df_average_visits = df \n",
    "df_average_visits['Start'] = pd.to_datetime(df_average_visits['Start'])\n",
    "df_average_visits = df_average_visits.groupby(['Location', 'Start']).mean().reset_index()\n",
    "df_average_visits['End'] = df_average_visits['Start'] + dt.timedelta(minutes=14, seconds=59)"
   ]
  },
  {
   "cell_type": "code",
   "execution_count": 7,
   "id": "4b295fb9",
   "metadata": {},
   "outputs": [
    {
     "data": {
      "text/plain": [
       "['Bijlmerpark West',\n",
       " 'Erasmuspark',\n",
       " 'Oosterpark',\n",
       " 'Oosterparkbuurt',\n",
       " 'Overhoeksparklaan',\n",
       " 'Rembrandtpark Noord',\n",
       " 'Rembrandtpark Zuid',\n",
       " 'Sarphatipark',\n",
       " 'Vondelpark Oost',\n",
       " 'Vondelpark West',\n",
       " 'Willemspark']"
      ]
     },
     "execution_count": 7,
     "metadata": {},
     "output_type": "execute_result"
    }
   ],
   "source": [
    "def search_locations(search):\n",
    "    # boolean series returned with False at place of NaN\n",
    "    bool_series = df_average_visits[\"Location\"].str.lower().str.contains(search)\n",
    "    \n",
    "    # return list of search result\n",
    "    return df_average_visits[bool_series]['Location'].unique().tolist()\n",
    "\n",
    "search_locations('park')"
   ]
  },
  {
   "cell_type": "code",
   "execution_count": 8,
   "id": "ab1f2f13",
   "metadata": {},
   "outputs": [],
   "source": [
    "#Top 6 biggest parks\n",
    "locations = ['Rembrandtpark Noord',\n",
    " 'Rembrandtpark Zuid',\n",
    " 'Sarphatipark',\n",
    " 'Vondelpark Oost',\n",
    " 'Vondelpark West',\n",
    " 'Oosterpark',\n",
    " 'Erasmuspark',\n",
    " 'Westergasfabriek']"
   ]
  },
  {
   "cell_type": "code",
   "execution_count": 9,
   "id": "23caac7b",
   "metadata": {},
   "outputs": [
    {
     "name": "stderr",
     "output_type": "stream",
     "text": [
      "C:\\Users\\olivi\\anaconda3\\envs\\my-r-env\\lib\\site-packages\\pandas\\core\\indexing.py:1817: SettingWithCopyWarning: \n",
      "A value is trying to be set on a copy of a slice from a DataFrame.\n",
      "Try using .loc[row_indexer,col_indexer] = value instead\n",
      "\n",
      "See the caveats in the documentation: https://pandas.pydata.org/pandas-docs/stable/user_guide/indexing.html#returning-a-view-versus-a-copy\n",
      "  self._setitem_single_column(loc, value, pi)\n"
     ]
    }
   ],
   "source": [
    "# Only select resono data of biggest 6 parks\n",
    "df_average_visits_parks = df_average_visits[df_average_visits['Location'].isin(locations)]\n",
    "\n",
    "# # Merge Noord-Zuid & Oost-West into one location\n",
    "df_average_visits_parks.loc[df_average_visits_parks.Location.str.contains('Rembrandtpark'), 'Location'] = 'Rembrandtpark'\n",
    "df_average_visits_parks.loc[df_average_visits_parks.Location.str.contains('Vondelpark'), 'Location'] = 'Vondelpark'\n",
    "\n",
    "df_average_visits_parks_summed = df_average_visits_parks.groupby(['Location', 'Start']).sum().reset_index()"
   ]
  },
  {
   "cell_type": "code",
   "execution_count": 10,
   "id": "a7be0d51",
   "metadata": {},
   "outputs": [
    {
     "data": {
      "text/plain": [
       "<AxesSubplot:xlabel='Start', ylabel='Visits'>"
      ]
     },
     "execution_count": 10,
     "metadata": {},
     "output_type": "execute_result"
    },
    {
     "data": {
      "image/png": "[encoded data removed]",
      "text/plain": [
       "<Figure size 432x288 with 1 Axes>"
      ]
     },
     "metadata": {
      "needs_background": "light"
     },
     "output_type": "display_data"
    }
   ],
   "source": [
    "sns.lineplot(x=\"Start\", y=\"Visits\", hue=\"Location\", data=df_average_visits_parks_summed)"
   ]
  },
  {
   "cell_type": "code",
   "execution_count": null,
   "id": "13f95a5e",
   "metadata": {},
   "outputs": [],
   "source": []
  }
 ],
 "metadata": {
  "kernelspec": {
   "display_name": "Python 3 (ipykernel)",
   "language": "python",
   "name": "python3"
  },
  "language_info": {
   "codemirror_mode": {
    "name": "ipython",
    "version": 3
   },
   "file_extension": ".py",
   "mimetype": "text/x-python",
   "name": "python",
   "nbconvert_exporter": "python",
   "pygments_lexer": "ipython3",
   "version": "3.7.1"
  }
 },
 "nbformat": 4,
 "nbformat_minor": 5
}
