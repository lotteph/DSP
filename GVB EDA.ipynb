{
 "cells": [
  {
   "cell_type": "code",
   "execution_count": 1,
   "id": "7f2287da",
   "metadata": {},
   "outputs": [],
   "source": [
    "import matplotlib.pyplot as plt\n",
    "import pandas as pd\n",
    "import glob"
   ]
  },
  {
   "cell_type": "code",
   "execution_count": 2,
   "id": "19cf8a40",
   "metadata": {},
   "outputs": [
    {
     "name": "stdout",
     "output_type": "stream",
     "text": [
      "['Data/GVB 2020-02/02/03\\\\Datalab_Reis_Bestemming_Datum_20200203.csv', 'Data/GVB 2020-02/02/03\\\\Datalab_Reis_Bestemming_Uur_20200203.csv', 'Data/GVB 2020-02/02/03\\\\Datalab_Reis_Herkomst_Datum_20200203.csv', 'Data/GVB 2020-02/02/03\\\\Datalab_Reis_Herkomst_Uur_20200203.csv', 'Data/GVB 2020-02/02/03\\\\Datalab_Rit_Bestemming_Uur_20200203.csv', 'Data/GVB 2020-02/02/03\\\\Datalab_Rit_Herkomst_Bestemming_Uur_20200203.csv', 'Data/GVB 2020-02/02/03\\\\Datalab_Rit_Herkomst_Uur_20200203.csv']\n"
     ]
    }
   ],
   "source": [
    "path = \"Data/GVB 2020-02/02/03/\"\n",
    "filenames = glob.glob(path + \"*.csv\")\n",
    "print(filenames)\n",
    "\n",
    "df_list = []\n",
    "\n",
    "for i in range(len(filenames)):\n",
    "    try:\n",
    "        data = pd.read_csv(filenames[i], sep=\";\")\n",
    "        df_list.append(data)\n",
    "    except:\n",
    "        pass"
   ]
  },
  {
   "cell_type": "code",
   "execution_count": null,
   "id": "28cc71f2",
   "metadata": {},
   "outputs": [],
   "source": [
    "data = df_list[0].dropna()\n",
    "\n",
    "grouped_data = data.groupby(by=[\"AankomstHalteNaam\", \"AankomstLat\", \"AankomstLon\"], as_index=False)[\"AantalReizen\"].sum()\n",
    "\n",
    "print(data.head(10))\n",
    "\n",
    "grouped_data.head(10)"
   ]
  },
  {
   "cell_type": "code",
   "execution_count": 3,
   "id": "d2833b6c",
   "metadata": {},
   "outputs": [
    {
     "name": "stdout",
     "output_type": "stream",
     "text": [
      "  UurgroepOmschrijving (van aankomst)      AankomstHalteNaam  AantalReizen\n",
      "0                       00:00 - 00:59      1e Coehoornstraat            34\n",
      "1                       00:00 - 00:59  1e Con. Huygensstraat            20\n",
      "2                       00:00 - 00:59     1e v.Swindenstraat            23\n",
      "3                       00:00 - 00:59       A.J. Ernststraat            11\n",
      "4                       00:00 - 00:59         Aalbersestraat            14\n",
      "5                       00:00 - 00:59    Adm. Helfrichstraat           197\n",
      "6                       00:00 - 00:59     Adm. de Ruijterweg           115\n",
      "7                       00:00 - 00:59         Alexanderplein            94\n",
      "8                       00:00 - 00:59             Amsteldijk            15\n",
      "9                       00:00 - 00:59             Amstelkade            47\n"
     ]
    },
    {
     "data": {
      "text/html": [
       "<div>\n",
       "<style scoped>\n",
       "    .dataframe tbody tr th:only-of-type {\n",
       "        vertical-align: middle;\n",
       "    }\n",
       "\n",
       "    .dataframe tbody tr th {\n",
       "        vertical-align: top;\n",
       "    }\n",
       "\n",
       "    .dataframe thead th {\n",
       "        text-align: right;\n",
       "    }\n",
       "</style>\n",
       "<table border=\"1\" class=\"dataframe\">\n",
       "  <thead>\n",
       "    <tr style=\"text-align: right;\">\n",
       "      <th></th>\n",
       "      <th>UurgroepOmschrijving (van vertrek)</th>\n",
       "      <th>VertrekHalteNaam</th>\n",
       "      <th>AantalReizen</th>\n",
       "    </tr>\n",
       "  </thead>\n",
       "  <tbody>\n",
       "    <tr>\n",
       "      <th>0</th>\n",
       "      <td>00:00 - 00:59</td>\n",
       "      <td>1e Con. Huygensstraat</td>\n",
       "      <td>22</td>\n",
       "    </tr>\n",
       "    <tr>\n",
       "      <th>1</th>\n",
       "      <td>00:00 - 00:59</td>\n",
       "      <td>1e v.Swindenstraat</td>\n",
       "      <td>13</td>\n",
       "    </tr>\n",
       "    <tr>\n",
       "      <th>2</th>\n",
       "      <td>00:00 - 00:59</td>\n",
       "      <td>Adm. de Ruijterweg</td>\n",
       "      <td>47</td>\n",
       "    </tr>\n",
       "    <tr>\n",
       "      <th>3</th>\n",
       "      <td>00:00 - 00:59</td>\n",
       "      <td>Amstelstation</td>\n",
       "      <td>666</td>\n",
       "    </tr>\n",
       "    <tr>\n",
       "      <th>4</th>\n",
       "      <td>00:00 - 00:59</td>\n",
       "      <td>Amstelveenseweg</td>\n",
       "      <td>186</td>\n",
       "    </tr>\n",
       "    <tr>\n",
       "      <th>5</th>\n",
       "      <td>00:00 - 00:59</td>\n",
       "      <td>Artis</td>\n",
       "      <td>10</td>\n",
       "    </tr>\n",
       "    <tr>\n",
       "      <th>6</th>\n",
       "      <td>00:00 - 00:59</td>\n",
       "      <td>Beukenweg</td>\n",
       "      <td>23</td>\n",
       "    </tr>\n",
       "    <tr>\n",
       "      <th>7</th>\n",
       "      <td>00:00 - 00:59</td>\n",
       "      <td>Bilderdijkstraat</td>\n",
       "      <td>147</td>\n",
       "    </tr>\n",
       "    <tr>\n",
       "      <th>8</th>\n",
       "      <td>00:00 - 00:59</td>\n",
       "      <td>Buiten Brouwersstraat</td>\n",
       "      <td>21</td>\n",
       "    </tr>\n",
       "    <tr>\n",
       "      <th>9</th>\n",
       "      <td>00:00 - 00:59</td>\n",
       "      <td>Bullewijk</td>\n",
       "      <td>91</td>\n",
       "    </tr>\n",
       "  </tbody>\n",
       "</table>\n",
       "</div>"
      ],
      "text/plain": [
       "  UurgroepOmschrijving (van vertrek)       VertrekHalteNaam  AantalReizen\n",
       "0                      00:00 - 00:59  1e Con. Huygensstraat            22\n",
       "1                      00:00 - 00:59     1e v.Swindenstraat            13\n",
       "2                      00:00 - 00:59     Adm. de Ruijterweg            47\n",
       "3                      00:00 - 00:59          Amstelstation           666\n",
       "4                      00:00 - 00:59        Amstelveenseweg           186\n",
       "5                      00:00 - 00:59                  Artis            10\n",
       "6                      00:00 - 00:59              Beukenweg            23\n",
       "7                      00:00 - 00:59       Bilderdijkstraat           147\n",
       "8                      00:00 - 00:59  Buiten Brouwersstraat            21\n",
       "9                      00:00 - 00:59              Bullewijk            91"
      ]
     },
     "execution_count": 3,
     "metadata": {},
     "output_type": "execute_result"
    }
   ],
   "source": [
    "data1 = df_list[1].dropna()\n",
    "data3 = df_list[3].dropna()\n",
    "\n",
    "grouped_data1 = data1.groupby(by=[\"UurgroepOmschrijving (van aankomst)\", \"AankomstHalteNaam\"], as_index=False)[\"AantalReizen\"].sum()\n",
    "grouped_data3 = data3.groupby(by=[\"UurgroepOmschrijving (van vertrek)\", \"VertrekHalteNaam\"], as_index=False)[\"AantalReizen\"].sum()\n",
    "\n",
    "\n",
    "# print(data1.head(10))\n",
    "# print(data3.head(10))\n",
    "\n",
    "print(grouped_data1.head(10))\n",
    "grouped_data3.head(10)"
   ]
  },
  {
   "cell_type": "code",
   "execution_count": null,
   "id": "879ff7a4",
   "metadata": {},
   "outputs": [],
   "source": []
  }
 ],
 "metadata": {
  "kernelspec": {
   "display_name": "Python 3",
   "language": "python",
   "name": "python3"
  },
  "language_info": {
   "codemirror_mode": {
    "name": "ipython",
    "version": 3
   },
   "file_extension": ".py",
   "mimetype": "text/x-python",
   "name": "python",
   "nbconvert_exporter": "python",
   "pygments_lexer": "ipython3",
   "version": "3.8.8"
  }
 },
 "nbformat": 4,
 "nbformat_minor": 5
}
