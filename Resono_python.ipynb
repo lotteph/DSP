{
 "cells": [
  {
   "cell_type": "code",
   "execution_count": null,
   "id": "3709c003",
   "metadata": {},
   "outputs": [],
   "source": [
    "import pandas as pd\n",
    "import numpy as np\n",
    "import matplotlib.pyplot as plt\n",
    "import seaborn as sns\n",
    "import glob\n",
    "import os\n",
    "import datetime as dt"
   ]
  },
  {
   "cell_type": "markdown",
   "id": "65f3c074",
   "metadata": {},
   "source": [
    "# EDA on all files to see what data we have"
   ]
  },
  {
   "cell_type": "code",
   "execution_count": null,
   "id": "8ab8eb99",
   "metadata": {},
   "outputs": [],
   "source": [
    "files = os.path.join(\"C:\\\\Google Drive\\\\UVA\\\\DSP\\\\Data\\\\Resono\", \"2020-10*.csv\") "
   ]
  },
  {
   "cell_type": "code",
   "execution_count": null,
   "id": "a0dcbf18",
   "metadata": {},
   "outputs": [],
   "source": [
    "resono = pd.read_csv('Resono\\\\2020-10-10T234729+0000_totalsper15minutes.csv')"
   ]
  },
  {
   "cell_type": "code",
   "execution_count": null,
   "id": "a03e7241",
   "metadata": {},
   "outputs": [],
   "source": [
    "resono"
   ]
  },
  {
   "cell_type": "code",
   "execution_count": null,
   "id": "927dbb1e",
   "metadata": {},
   "outputs": [],
   "source": [
    "resono['Visits'].describe()"
   ]
  },
  {
   "cell_type": "code",
   "execution_count": null,
   "id": "f2e0a37f",
   "metadata": {},
   "outputs": [],
   "source": [
    "resono['Location'].value_counts()"
   ]
  },
  {
   "cell_type": "code",
   "execution_count": null,
   "id": "92042bcc",
   "metadata": {},
   "outputs": [],
   "source": [
    "#it seems more than one locations (vonderpark) are included in the data set."
   ]
  },
  {
   "cell_type": "code",
   "execution_count": null,
   "id": "3e5cc50a",
   "metadata": {},
   "outputs": [],
   "source": [
    "import glob"
   ]
  },
  {
   "cell_type": "markdown",
   "id": "036db346",
   "metadata": {},
   "source": [
    "# Grab All data files and pick only Vondelpark data"
   ]
  },
  {
   "cell_type": "code",
   "execution_count": null,
   "id": "332a28a1",
   "metadata": {},
   "outputs": [],
   "source": [
    "#WINDOWS\n",
    "#files = glob.glob(r'Resono 2020-10\\*\\*\\*.csv')\n",
    "#MAC\n",
    "files = glob.glob(r'Resono 2020-10/*/*/*.csv')\n",
    "files[:5]"
   ]
  },
  {
   "cell_type": "code",
   "execution_count": null,
   "id": "1e473480",
   "metadata": {},
   "outputs": [],
   "source": [
    "resono_data = pd.concat( (pd.read_csv(file) for file in files), ignore_index = True)\n",
    "resono_data.head(10)"
   ]
  },
  {
   "cell_type": "code",
   "execution_count": null,
   "id": "78515a6b",
   "metadata": {},
   "outputs": [],
   "source": [
    "# Missing value? Where is start 23:45?\n",
    "df = resono_data.copy()\n",
    "df.drop_duplicates(inplace=True)\n",
    "df[df['Location'] == 'Oosterpark'].sort_values(by=\"Start\")"
   ]
  },
  {
   "cell_type": "code",
   "execution_count": null,
   "id": "517b4be7",
   "metadata": {},
   "outputs": [],
   "source": [
    "# Some entries are duplicate, so we need to take the average\n",
    "df_average_visits = df \n",
    "df_average_visits['Start'] = pd.to_datetime(df_average_visits['Start'])\n",
    "df_average_visits = df_average_visits.groupby(['Location', 'Start']).mean().reset_index()\n",
    "df_average_visits['End'] = df_average_visits['Start'] + dt.timedelta(minutes=14, seconds=59)\n",
    "df_average_visits"
   ]
  },
  {
   "cell_type": "code",
   "execution_count": null,
   "id": "23caac7b",
   "metadata": {},
   "outputs": [],
   "source": [
    "df_average_visits_oosterpark = df_average_visits[df_average_visits['Location'] == 'Oosterpark']\n",
    "df_average_visits_oosterpark['StartTime'] = df_average_visits_oosterpark['Start'].dt.time\n",
    "#df_average_visits_oosterpark['StartTime'] = df_average_visits_oosterpark['StartTime'] + dt.timedelta(minutes=0, seconds=59)"
   ]
  },
  {
   "cell_type": "code",
   "execution_count": null,
   "id": "a7be0d51",
   "metadata": {},
   "outputs": [],
   "source": [
    "sns.set(rc = {'figure.figsize':(15,8)})\n",
    "sns.lineplot(data=df_average_visits_oosterpark, x=\"Start\", y = \"Visits\");"
   ]
  },
  {
   "cell_type": "code",
   "execution_count": null,
   "id": "d13f057a",
   "metadata": {},
   "outputs": [],
   "source": [
    "#resono_data['Locationcode'].unique()\n",
    "resono_data['Locationcode'].nunique()"
   ]
  },
  {
   "cell_type": "markdown",
   "id": "1d78e427",
   "metadata": {},
   "source": [
    "In Resono data itself, we have 185 locations. We are going to focus on Vondelpark for now. Thus, we are going to only use Vondelpart West and Vonderlpark East, and then we combined them and created one dataframe \"vondelpark\"."
   ]
  },
  {
   "cell_type": "code",
   "execution_count": null,
   "id": "8639db90",
   "metadata": {},
   "outputs": [],
   "source": [
    "vondelpark = resono_data[(resono_data['Location'] == 'Vondelpark West') | (resono_data['Location'] == 'Vondelpark Oost')]\n",
    "vondelpark.head(20)"
   ]
  },
  {
   "cell_type": "code",
   "execution_count": null,
   "id": "207108e4",
   "metadata": {},
   "outputs": [],
   "source": [
    "print(resono_data.shape)"
   ]
  },
  {
   "cell_type": "code",
   "execution_count": null,
   "id": "500572d6",
   "metadata": {},
   "outputs": [],
   "source": [
    "vondelpark.shape"
   ]
  },
  {
   "cell_type": "markdown",
   "id": "d651032e",
   "metadata": {},
   "source": [
    "By creating 'vondelpark', we reduced the data amount from 843600 to 9120."
   ]
  },
  {
   "cell_type": "markdown",
   "id": "338ffa54",
   "metadata": {},
   "source": [
    "# Quick EDA on Vondelpark"
   ]
  },
  {
   "cell_type": "code",
   "execution_count": null,
   "id": "55fcfb51",
   "metadata": {},
   "outputs": [],
   "source": [
    "#pip install pandas-profiling"
   ]
  },
  {
   "cell_type": "code",
   "execution_count": null,
   "id": "477cd71b",
   "metadata": {},
   "outputs": [],
   "source": [
    "from pandas_profiling import ProfileReport\n",
    "profile = ProfileReport(vondelpark, title = 'Location Visit', html = {'style' : {'fill_width': True}})"
   ]
  },
  {
   "cell_type": "code",
   "execution_count": null,
   "id": "cfbeffb8",
   "metadata": {},
   "outputs": [],
   "source": [
    "profile"
   ]
  },
  {
   "cell_type": "code",
   "execution_count": null,
   "id": "c935c30b",
   "metadata": {},
   "outputs": [],
   "source": []
  },
  {
   "cell_type": "code",
   "execution_count": null,
   "id": "08d91a40",
   "metadata": {
    "scrolled": true
   },
   "outputs": [],
   "source": [
    "sns.countplot(x ='Visits', data = vondelpark)\n",
    "plt.figure(figsize=(40,40))\n",
    "plt.show()"
   ]
  },
  {
   "cell_type": "code",
   "execution_count": null,
   "id": "92f53df7",
   "metadata": {},
   "outputs": [],
   "source": [
    "sns.countplot(x ='Location', data = vondelpark)\n",
    "plt.figure(figsize=(40,30))\n",
    "plt.show()"
   ]
  },
  {
   "cell_type": "code",
   "execution_count": null,
   "id": "e73025a2",
   "metadata": {},
   "outputs": [],
   "source": [
    "vondelpark['Locationcode'].nunique() #the location code is about the location of the area.\n",
    "#in this casem vondelpark was in west and oost. so it's 2"
   ]
  },
  {
   "cell_type": "code",
   "execution_count": null,
   "id": "deea8123",
   "metadata": {},
   "outputs": [],
   "source": [
    "vondelpark['Resono-ID'].nunique() #the resono ID is about the location ID of the area.\n",
    "#in this casem vondelpark was in west and oost. so it's 2"
   ]
  },
  {
   "cell_type": "code",
   "execution_count": null,
   "id": "5ad44b16",
   "metadata": {},
   "outputs": [],
   "source": [
    "sns.distplot(vondelpark['Visits'], bins = 15)"
   ]
  },
  {
   "cell_type": "code",
   "execution_count": null,
   "id": "4b6f2242",
   "metadata": {},
   "outputs": [],
   "source": [
    "sns.catplot(x= 'Visits', kind = 'box', data = vondelpark)"
   ]
  },
  {
   "cell_type": "code",
   "execution_count": null,
   "id": "2607a72f",
   "metadata": {},
   "outputs": [],
   "source": [
    "vondelpark.head()"
   ]
  },
  {
   "cell_type": "markdown",
   "id": "685bbd68",
   "metadata": {},
   "source": [
    "Seperate time and dates of Start and End"
   ]
  },
  {
   "cell_type": "code",
   "execution_count": null,
   "id": "d56d3afd",
   "metadata": {},
   "outputs": [],
   "source": [
    "#start\n",
    "vondelpark['Start_Dates'] = pd.to_datetime(vondelpark['Start']).dt.date\n",
    "vondelpark['Start_Time'] = pd.to_datetime(vondelpark['Start']).dt.time\n",
    "#End\n",
    "vondelpark['End_Dates'] = pd.to_datetime(vondelpark['End']).dt.date\n",
    "vondelpark['End_Time'] = pd.to_datetime(vondelpark['End']).dt.time"
   ]
  },
  {
   "cell_type": "code",
   "execution_count": null,
   "id": "15ad9cff",
   "metadata": {},
   "outputs": [],
   "source": [
    "vondelpark.head()"
   ]
  },
  {
   "cell_type": "code",
   "execution_count": null,
   "id": "9109d721",
   "metadata": {},
   "outputs": [],
   "source": [
    "#remove Start and End\n",
    "vondelpark.drop([\"Start\", 'End', 'Locationcode'], axis = 1)"
   ]
  },
  {
   "cell_type": "code",
   "execution_count": null,
   "id": "6101ec0e",
   "metadata": {},
   "outputs": [],
   "source": [
    "sns.countplot(x ='Start_Time', data = vondelpark)\n",
    "plt.figure(figsize=(40,30))\n",
    "plt.show()"
   ]
  },
  {
   "cell_type": "code",
   "execution_count": null,
   "id": "38fcffbb",
   "metadata": {},
   "outputs": [],
   "source": [
    "sns.countplot(x ='End_Time', data = vondelpark)\n",
    "plt.figure(figsize=(40,30))\n",
    "plt.show()"
   ]
  },
  {
   "cell_type": "code",
   "execution_count": null,
   "id": "20482cac",
   "metadata": {},
   "outputs": [],
   "source": []
  },
  {
   "cell_type": "code",
   "execution_count": null,
   "id": "fdf2da1f",
   "metadata": {},
   "outputs": [],
   "source": []
  },
  {
   "cell_type": "code",
   "execution_count": null,
   "id": "2053692f",
   "metadata": {},
   "outputs": [],
   "source": []
  },
  {
   "cell_type": "code",
   "execution_count": null,
   "id": "d97d3984",
   "metadata": {},
   "outputs": [],
   "source": []
  },
  {
   "cell_type": "code",
   "execution_count": null,
   "id": "7784ec73",
   "metadata": {},
   "outputs": [],
   "source": []
  },
  {
   "cell_type": "code",
   "execution_count": null,
   "id": "4bc522cb",
   "metadata": {},
   "outputs": [],
   "source": []
  },
  {
   "cell_type": "code",
   "execution_count": null,
   "id": "cbdd2a9e",
   "metadata": {},
   "outputs": [],
   "source": []
  }
 ],
 "metadata": {
  "kernelspec": {
   "display_name": "Python 3 (ipykernel)",
   "language": "python",
   "name": "python3"
  },
  "language_info": {
   "codemirror_mode": {
    "name": "ipython",
    "version": 3
   },
   "file_extension": ".py",
   "mimetype": "text/x-python",
   "name": "python",
   "nbconvert_exporter": "python",
   "pygments_lexer": "ipython3",
   "version": "3.7.10"
  }
 },
 "nbformat": 4,
 "nbformat_minor": 5
}
