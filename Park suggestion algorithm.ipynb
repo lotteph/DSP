{
 "cells": [
  {
   "cell_type": "code",
   "execution_count": 1,
   "id": "fe7a643a",
   "metadata": {},
   "outputs": [],
   "source": [
    "from sklearn.model_selection import train_test_split\n",
    "from dateutil.relativedelta import relativedelta\n",
    "from sklearn.metrics import mean_absolute_error\n",
    "from sklearn.metrics import mean_squared_error\n",
    "from math import radians, cos, sin, asin, sqrt\n",
    "from sklearn.svm import OneClassSVM\n",
    "#from functionsPredictions import *\n",
    "from sklearn import preprocessing\n",
    "import matplotlib.pyplot as plt\n",
    "import category_encoders as ce\n",
    "from datetime import timedelta\n",
    "from scipy import stats\n",
    "import seaborn as sns\n",
    "import xgboost as xgb\n",
    "import datetime as dt\n",
    "import pandas as pd\n",
    "import numpy as np\n",
    "import warnings\n",
    "import glob\n",
    "\n",
    "warnings.filterwarnings('ignore')\n",
    "\n",
    "# with pd.option_context('display.max_rows', None, 'display.max_columns', None):  # more options can be specified also\n",
    "#     display(df_holiday2)"
   ]
  },
  {
   "cell_type": "code",
   "execution_count": 2,
   "id": "309e247a",
   "metadata": {},
   "outputs": [],
   "source": [
    "vondelpark_west = [{'lat': 52.356496, 'lng': 4.861447}]\n",
    "vondelpark_oost_3 = [{'lng': 4.869217, 'lat': 52.358252}]\n",
    "vondelpark_oost_2 = [{'lng': 4.874692, 'lat': 52.359798}]\n",
    "vondelpark_oost_1 = [{'lng': 4.879652, 'lat': 52.360991}]\n",
    "oosterpark = [{'lng': 4.920558, 'lat': 52.360098}]\n",
    "sarphatipark = [{'lng': 4.896375, 'lat': 52.354364}]\n",
    "westerpark_west = [{'lng': 4.867128, 'lat': 52.387099}]\n",
    "westerpark_centrum = [{'lng': 4.873268, 'lat': 52.387374}]\n",
    "westerpark_oost = [{'lng': 4.878379, 'lat': 52.386379}]\n",
    "westergasfabriek = [{'lng': 4.869769, 'lat': 52.385920}]\n",
    "rembrandtpark_noord = [{'lng': 4.846573, 'lat': 52.366664}]\n",
    "rembrandtpark_zuid = [{'lng': 4.846932, 'lat': 52.361161}]\n",
    "erasmuspark = [{'lng': 4.851909, 'lat': 52.374808}]\n",
    "amstelpark = [{'lng': 4.894404, 'lat': 52.330409}]\n",
    "park_frankendael = [{'lng': 4.929839, 'lat': 52.350703}]\n",
    "beatrixpark = [{'lng': 4.881352, 'lat': 52.342471}]\n",
    "flevopark = [{'lng': 4.947881, 'lat': 52.360087}]\n",
    "gaasperpark = [{'lng': 4.992192, 'lat': 52.310420}]\n",
    "nelson_mandelapark = [{'lng': 4.963691, 'lat': 52.312204}]\n",
    "noorderpark = [{'lng': 4.919606, 'lat': 52.392651}]\n",
    "sloterpark = [{'lng': 4.811894, 'lat': 52.366219}]\n",
    "wh_vliegenbos = [{'lng': 4.931495, 'lat': 52.388802}]\n"
   ]
  },
  {
   "cell_type": "code",
   "execution_count": 31,
   "id": "97a45c77",
   "metadata": {},
   "outputs": [],
   "source": [
    "def preprocessResono(path_url):\n",
    "    '''\n",
    "    Reads in and preprocesses the resono data\n",
    "    \n",
    "    :path_url: The path_url to the resono data\n",
    "    \n",
    "    Returns a preprocessed Dataframe\n",
    "    '''\n",
    "    \n",
    "    df = pd.read_csv(path_url)\n",
    "    df = df.drop(columns = [\"Unnamed: 0\"])\n",
    "    \n",
    "    df['End'] = pd.to_datetime(df['End'])\n",
    "    df['End'] = pd.to_datetime(df['End'].dt.strftime(\"%Y-%m-%d %H:%M:%S\"))\n",
    "    \n",
    "    df = df.rename(columns = {'End' : 'Datetime',\n",
    "                              'End_Dates' : 'Date',\n",
    "                              'End_Time' : 'Time'})\n",
    "    df = df.set_index('Datetime')\n",
    "    df = df.loc['2020-10':]\n",
    "    \n",
    "    df = df[df.Location != 'Vondelpark Oost']\n",
    "    df = df[df.Location != 'Westerpark']\n",
    "    df = df[df.Location != 'Rembrandtpark Noord']\n",
    "    df = df[df.Location != 'Rembrandtpark Zuid']\n",
    "\n",
    "    return df\n",
    "\n",
    "def haversine(lon1, lat1, lon2, lat2):\n",
    "    \"\"\"\n",
    "    Calculate the great circle distance between two points \n",
    "    on the earth (specified in decimal degrees)\n",
    "    \"\"\"\n",
    "    # convert decimal degrees to radians \n",
    "    lon1, lat1, lon2, lat2 = map(radians, [lon1, lat1, lon2, lat2])\n",
    "\n",
    "    # haversine formula \n",
    "    dlon = lon2 - lon1 \n",
    "    dlat = lat2 - lat1 \n",
    "    a = sin(dlat/2)**2 + cos(lat1) * cos(lat2) * sin(dlon/2)**2\n",
    "    c = 2 * asin(sqrt(a)) \n",
    "    r = 6371 # Radius of earth in kilometers. Use 3956 for miles\n",
    "    return c * r\n",
    "\n",
    "def ceil_dt(dt, delta):\n",
    "    return dt + (dt.min - dt) % delta\n",
    "\n",
    "def getParkSuggestion(df, date, lat, lng, pred):\n",
    "    resono = df.reset_index()\n",
    "\n",
    "    prediction_date_4_months = date + relativedelta(months=-4, days=-1)\n",
    "    df_4months = resono[(resono['Datetime'] >= prediction_date_4_months) & (resono['Datetime'] < date)]\n",
    "    \n",
    "    df_4months['Weekday'] = df_4months['Datetime'].apply(lambda x: x.weekday())\n",
    "    df_4months_groupby = df_4months.groupby(['Time', 'Weekday', 'Location']).mean()\n",
    "    \n",
    "    df_4months_groupby = df_4months_groupby.reset_index()\n",
    "    df_baseline = df_4months_groupby[(df_4months_groupby['Weekday'] == date.weekday()) & \n",
    "                                  (df_4months_groupby['Time'] == ceil_dt(prediction_time + timedelta(minutes=15), timedelta(minutes=15)).strftime(\"%H:%M:%S\"))]\n",
    "    \n",
    "    df_baseline['Longitude'] = df_baseline['Location'].apply(lambda x: globals()[\"_\".join(f\"{x.lower()}\".split())][0]['lng'])\n",
    "    df_baseline['Latitude'] = df_baseline['Location'].apply(lambda x: globals()[\"_\".join(f\"{x.lower()}\".split())][0]['lat'])\n",
    "    \n",
    "    df_baseline['Distance'] = [haversine(lat, lng, df_baseline.iloc[x]['Latitude'], df_baseline.iloc[x]['Longitude']) \n",
    "                         for x in range(df_baseline.shape[0])]\n",
    "\n",
    "    df_baseline['Predictions'] = pred\n",
    "    df_baseline['Crowdedness factor'] = (df_baseline['Predictions'] - df_baseline['Visits']) / df_baseline['Visits'] #(baseline - values) / values\n",
    "    crowdedness = df_baseline['Crowdedness factor'].values\n",
    "    df_baseline['Crowdedness factor'] = [x/5 if x <= 0 else x for x in crowdedness]\n",
    "    df_baseline['Park suggestion'] = df_baseline['Distance'] + (df_baseline['Crowdedness factor']*5)\n",
    "    df_baseline['Distance'] = round(df_baseline['Distance'],2)\n",
    "    \n",
    "    df_baseline = df_baseline.reset_index(drop=True)\n",
    "    df_baseline.index += 1\n",
    "    \n",
    "    return df_baseline.sort_values(by='Park suggestion')[['Location', 'Distance', 'Park suggestion']].iloc[:3]"
   ]
  },
  {
   "cell_type": "code",
   "execution_count": 5,
   "id": "1edf5643",
   "metadata": {},
   "outputs": [],
   "source": [
    "resono = preprocessResono(\"Complete dataframe/resono_2020_2022.csv\")\n",
    "resono['Location'] = resono['Location'].str.replace('W.H. Vliegenbos', 'WH Vliegenbos')"
   ]
  },
  {
   "cell_type": "code",
   "execution_count": 32,
   "id": "906ede39",
   "metadata": {},
   "outputs": [
    {
     "data": {
      "text/html": [
       "<div>\n",
       "<style scoped>\n",
       "    .dataframe tbody tr th:only-of-type {\n",
       "        vertical-align: middle;\n",
       "    }\n",
       "\n",
       "    .dataframe tbody tr th {\n",
       "        vertical-align: top;\n",
       "    }\n",
       "\n",
       "    .dataframe thead th {\n",
       "        text-align: right;\n",
       "    }\n",
       "</style>\n",
       "<table border=\"1\" class=\"dataframe\">\n",
       "  <thead>\n",
       "    <tr style=\"text-align: right;\">\n",
       "      <th></th>\n",
       "      <th>Location</th>\n",
       "      <th>Distance</th>\n",
       "      <th>Park suggestion</th>\n",
       "    </tr>\n",
       "  </thead>\n",
       "  <tbody>\n",
       "    <tr>\n",
       "      <th>5</th>\n",
       "      <td>Gaasperpark</td>\n",
       "      <td>3.56</td>\n",
       "      <td>3.376234</td>\n",
       "    </tr>\n",
       "    <tr>\n",
       "      <th>9</th>\n",
       "      <td>Park Frankendael</td>\n",
       "      <td>4.78</td>\n",
       "      <td>4.627339</td>\n",
       "    </tr>\n",
       "    <tr>\n",
       "      <th>6</th>\n",
       "      <td>Nelson Mandelapark</td>\n",
       "      <td>2.28</td>\n",
       "      <td>4.689471</td>\n",
       "    </tr>\n",
       "  </tbody>\n",
       "</table>\n",
       "</div>"
      ],
      "text/plain": [
       "             Location  Distance  Park suggestion\n",
       "5         Gaasperpark      3.56         3.376234\n",
       "9    Park Frankendael      4.78         4.627339\n",
       "6  Nelson Mandelapark      2.28         4.689471"
      ]
     },
     "execution_count": 32,
     "metadata": {},
     "output_type": "execute_result"
    }
   ],
   "source": [
    "prediction_date = dt.datetime(2022, 1, 5) ##Fixed variable\n",
    "time = dt.datetime.now()\n",
    "prediction_time = prediction_date + timedelta(hours=time.hour, minutes=time.minute) \n",
    "\n",
    "# current_lat = 52.357737\n",
    "# current_lng = 4.890803\n",
    "\n",
    "current_lat = 52.332204\n",
    "current_lng = 4.968691\n",
    "\n",
    "values = [128, 800, 155, 130, 100, 370, 1050, 600, 280, 590, 420, 610, 566, 300, 453, 38, 145, 106, 172, 146]\n",
    "park_suggestion = getParkSuggestion(resono, prediction_date, current_lat, current_lng, values)\n",
    "park_suggestion"
   ]
  },
  {
   "cell_type": "code",
   "execution_count": 15,
   "id": "6b2b567f",
   "metadata": {},
   "outputs": [
    {
     "data": {
      "text/plain": [
       "datetime.datetime(2022, 1, 5, 11, 49)"
      ]
     },
     "execution_count": 15,
     "metadata": {},
     "output_type": "execute_result"
    }
   ],
   "source": [
    "prediction_time"
   ]
  },
  {
   "cell_type": "code",
   "execution_count": null,
   "id": "989b7313",
   "metadata": {},
   "outputs": [],
   "source": [
    "dt.datetime.now()"
   ]
  },
  {
   "cell_type": "code",
   "execution_count": null,
   "id": "3b157d6e",
   "metadata": {},
   "outputs": [],
   "source": [
    "values = [128, 1000, 155, 130, 100, 370, 1050, 600, 280, 570, 420, 610, 566, 300, 453, 38, 145, 106, 172, 146]"
   ]
  }
 ],
 "metadata": {
  "kernelspec": {
   "display_name": "Python 3 (ipykernel)",
   "language": "python",
   "name": "python3"
  },
  "language_info": {
   "codemirror_mode": {
    "name": "ipython",
    "version": 3
   },
   "file_extension": ".py",
   "mimetype": "text/x-python",
   "name": "python",
   "nbconvert_exporter": "python",
   "pygments_lexer": "ipython3",
   "version": "3.7.1"
  }
 },
 "nbformat": 4,
 "nbformat_minor": 5
}
