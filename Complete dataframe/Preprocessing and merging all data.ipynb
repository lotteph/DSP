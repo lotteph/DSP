{
 "cells": [
  {
   "cell_type": "markdown",
   "id": "77ae95ed",
   "metadata": {},
   "source": [
    "### Import functions"
   ]
  },
  {
   "cell_type": "code",
   "execution_count": 1,
   "id": "35a1ac1f",
   "metadata": {},
   "outputs": [],
   "source": [
    "from sklearn.model_selection import train_test_split\n",
    "from sklearn.metrics import mean_absolute_error\n",
    "from sklearn.metrics import mean_squared_error\n",
    "from math import radians, cos, sin, asin, sqrt\n",
    "from sklearn.svm import OneClassSVM\n",
    "from functionsPredictions import *\n",
    "from sklearn import preprocessing\n",
    "import matplotlib.pyplot as plt\n",
    "import category_encoders as ce\n",
    "from datetime import timedelta\n",
    "from scipy import stats\n",
    "import seaborn as sns\n",
    "import xgboost as xgb\n",
    "import datetime as dt\n",
    "import pandas as pd\n",
    "import numpy as np\n",
    "import warnings\n",
    "import glob\n",
    "\n",
    "warnings.filterwarnings(action='once')\n",
    "plt.style.use('seaborn-poster')\n",
    "sns.set_context(\"poster\") \n",
    "\n",
    "# with pd.option_context('display.max_rows', None, 'display.max_columns', None):  # more options can be specified also\n",
    "#     display(df_holiday2)"
   ]
  },
  {
   "cell_type": "markdown",
   "id": "061aff6b",
   "metadata": {},
   "source": [
    "### Preprocess, merge and clean functions"
   ]
  },
  {
   "cell_type": "code",
   "execution_count": 2,
   "id": "f4d5dd59",
   "metadata": {},
   "outputs": [],
   "source": [
    "vondelpark_west = [{'lat': 52.356496, 'lng': 4.861447}]\n",
    "vondelpark_oost_3 = [{'lng': 4.869217, 'lat': 52.358252}]\n",
    "vondelpark_oost_2 = [{'lng': 4.874692, 'lat': 52.359798}]\n",
    "vondelpark_oost_1 = [{'lng': 4.879652, 'lat': 52.360991}]\n",
    "oosterpark = [{'lng': 4.920558, 'lat': 52.360098}]\n",
    "sarphatipark = [{'lng': 4.896375, 'lat': 52.354364}]\n",
    "westerpark_west = [{'lng': 4.867128, 'lat': 52.387099}]\n",
    "westerpark_centrum = [{'lng': 4.873268, 'lat': 52.387374}]\n",
    "westerpark_oost = [{'lng': 4.878379, 'lat': 52.386379}]\n",
    "westergasfabriek = [{'lng': 4.869769, 'lat': 52.385920}]\n",
    "rembrandtpark_noord = [{'lng': 4.846573, 'lat': 52.366664}]\n",
    "rembrandtpark_zuid = [{'lng': 4.846932, 'lat': 52.361161}]\n",
    "erasmuspark = [{'lng': 4.851909, 'lat': 52.374808}]\n",
    "amstelpark = [{'lng': 4.894404, 'lat': 52.330409}]\n",
    "park_frankendael = [{'lng': 4.929839, 'lat': 52.350703}]\n",
    "beatrixpark = [{'lng': 4.881352, 'lat': 52.342471}]\n",
    "flevopark = [{'lng': 4.947881, 'lat': 52.360087}]\n",
    "gaasperpark = [{'lng': 4.992192, 'lat': 52.310420}]\n",
    "nelson_mandelapark = [{'lng': 4.963691, 'lat': 52.312204}]\n",
    "noorderpark = [{'lng': 4.919606, 'lat': 52.392651}]\n",
    "sloterpark = [{'lng': 4.811894, 'lat': 52.366219}]\n",
    "wh_vliegenbos = [{'lng': 4.931495, 'lat': 52.388802}]"
   ]
  },
  {
   "cell_type": "markdown",
   "id": "ba55854f",
   "metadata": {},
   "source": [
    "### Reading in filepaths"
   ]
  },
  {
   "cell_type": "code",
   "execution_count": 3,
   "id": "52536fd9",
   "metadata": {},
   "outputs": [
    {
     "ename": "NameError",
     "evalue": "name 'pd' is not defined",
     "output_type": "error",
     "traceback": [
      "\u001b[1;31m---------------------------------------------------------------------------\u001b[0m",
      "\u001b[1;31mNameError\u001b[0m                                 Traceback (most recent call last)",
      "\u001b[1;32mC:\\Users\\olivi\\AppData\\Local\\Temp/ipykernel_8344/413708020.py\u001b[0m in \u001b[0;36m<module>\u001b[1;34m\u001b[0m\n\u001b[1;32m----> 1\u001b[1;33m \u001b[0mdataframe\u001b[0m \u001b[1;33m=\u001b[0m \u001b[0mgetDataframe\u001b[0m\u001b[1;33m(\u001b[0m\u001b[1;33m)\u001b[0m\u001b[1;33m\u001b[0m\u001b[1;33m\u001b[0m\u001b[0m\n\u001b[0m\u001b[0;32m      2\u001b[0m \u001b[0mdataframe\u001b[0m\u001b[1;33m.\u001b[0m\u001b[0mhead\u001b[0m\u001b[1;33m(\u001b[0m\u001b[1;33m)\u001b[0m\u001b[1;33m\u001b[0m\u001b[1;33m\u001b[0m\u001b[0m\n",
      "\u001b[1;32mC:\\Users\\olivi\\Bureaublad\\UvA - Data Science\\Semester 1\\DSP_Git\\DSP\\Complete dataframe\\functionsPredictions.py\u001b[0m in \u001b[0;36mgetDataframe\u001b[1;34m()\u001b[0m\n\u001b[0;32m    646\u001b[0m \u001b[1;33m\u001b[0m\u001b[0m\n\u001b[0;32m    647\u001b[0m \u001b[1;32mdef\u001b[0m \u001b[0mgetDataframe\u001b[0m\u001b[1;33m(\u001b[0m\u001b[1;33m)\u001b[0m\u001b[1;33m:\u001b[0m\u001b[1;33m\u001b[0m\u001b[1;33m\u001b[0m\u001b[0m\n\u001b[1;32m--> 648\u001b[1;33m     \u001b[0mdf_Weather2020\u001b[0m \u001b[1;33m=\u001b[0m \u001b[0mpreprocessWeather\u001b[0m\u001b[1;33m(\u001b[0m\u001b[1;34m\"KNMI (Weather) 2020-2021/uurgeg_240_2011-2020.txt\"\u001b[0m\u001b[1;33m)\u001b[0m\u001b[1;33m\u001b[0m\u001b[1;33m\u001b[0m\u001b[0m\n\u001b[0m\u001b[0;32m    649\u001b[0m     \u001b[0mdf_Weather2021\u001b[0m \u001b[1;33m=\u001b[0m \u001b[0mpreprocessWeather\u001b[0m\u001b[1;33m(\u001b[0m\u001b[1;34m\"KNMI (Weather) 2020-2021/uurgeg_240_2021-2030.txt\"\u001b[0m\u001b[1;33m)\u001b[0m\u001b[1;33m\u001b[0m\u001b[1;33m\u001b[0m\u001b[0m\n\u001b[0;32m    650\u001b[0m     \u001b[0mdf_resono\u001b[0m \u001b[1;33m=\u001b[0m \u001b[0mpreprocessResono\u001b[0m\u001b[1;33m(\u001b[0m\u001b[1;34m\"resono_2020_2022.csv\"\u001b[0m\u001b[1;33m)\u001b[0m\u001b[1;33m\u001b[0m\u001b[1;33m\u001b[0m\u001b[0m\n",
      "\u001b[1;32mC:\\Users\\olivi\\Bureaublad\\UvA - Data Science\\Semester 1\\DSP_Git\\DSP\\Complete dataframe\\functionsPredictions.py\u001b[0m in \u001b[0;36mpreprocessWeather\u001b[1;34m(path_url)\u001b[0m\n\u001b[0;32m    270\u001b[0m     '''\n\u001b[0;32m    271\u001b[0m \u001b[1;33m\u001b[0m\u001b[0m\n\u001b[1;32m--> 272\u001b[1;33m     \u001b[0mdf\u001b[0m \u001b[1;33m=\u001b[0m \u001b[0mpd\u001b[0m\u001b[1;33m.\u001b[0m\u001b[0mread_csv\u001b[0m\u001b[1;33m(\u001b[0m\u001b[0mpath_url\u001b[0m\u001b[1;33m)\u001b[0m\u001b[1;33m\u001b[0m\u001b[1;33m\u001b[0m\u001b[0m\n\u001b[0m\u001b[0;32m    273\u001b[0m     \u001b[0mdf\u001b[0m\u001b[1;33m.\u001b[0m\u001b[0mcolumns\u001b[0m \u001b[1;33m=\u001b[0m \u001b[0mdf\u001b[0m\u001b[1;33m.\u001b[0m\u001b[0mcolumns\u001b[0m\u001b[1;33m.\u001b[0m\u001b[0mstr\u001b[0m\u001b[1;33m.\u001b[0m\u001b[0mreplace\u001b[0m\u001b[1;33m(\u001b[0m\u001b[1;34m' '\u001b[0m\u001b[1;33m,\u001b[0m \u001b[1;34m''\u001b[0m\u001b[1;33m)\u001b[0m\u001b[1;33m\u001b[0m\u001b[1;33m\u001b[0m\u001b[0m\n\u001b[0;32m    274\u001b[0m     \u001b[0mdf\u001b[0m\u001b[1;33m[\u001b[0m\u001b[1;33m[\u001b[0m\u001b[1;34m'FH'\u001b[0m\u001b[1;33m,\u001b[0m \u001b[1;34m'T'\u001b[0m\u001b[1;33m,\u001b[0m \u001b[1;34m'RH'\u001b[0m\u001b[1;33m]\u001b[0m\u001b[1;33m]\u001b[0m \u001b[1;33m=\u001b[0m \u001b[0mdf\u001b[0m\u001b[1;33m[\u001b[0m\u001b[1;33m[\u001b[0m\u001b[1;34m'FH'\u001b[0m\u001b[1;33m,\u001b[0m \u001b[1;34m'T'\u001b[0m\u001b[1;33m,\u001b[0m \u001b[1;34m'RH'\u001b[0m\u001b[1;33m]\u001b[0m\u001b[1;33m]\u001b[0m \u001b[1;33m/\u001b[0m \u001b[1;36m10\u001b[0m\u001b[1;33m\u001b[0m\u001b[1;33m\u001b[0m\u001b[0m\n",
      "\u001b[1;31mNameError\u001b[0m: name 'pd' is not defined"
     ]
    }
   ],
   "source": [
    "dataframe = getDataframe()\n",
    "dataframe.head()"
   ]
  },
  {
   "cell_type": "code",
   "execution_count": null,
   "id": "0d7fcb2a",
   "metadata": {},
   "outputs": [],
   "source": [
    "dataframe_no_outliers = removeOutliers(dataframe)\n",
    "dataframe_no_outliers.head()"
   ]
  },
  {
   "cell_type": "code",
   "execution_count": null,
   "id": "ef399853",
   "metadata": {},
   "outputs": [],
   "source": [
    "dataframe_no_outliers.to_csv('data_preprocessing.csv')"
   ]
  },
  {
   "cell_type": "markdown",
   "id": "0d8f40af",
   "metadata": {},
   "source": [
    "### Make predictions"
   ]
  },
  {
   "cell_type": "code",
   "execution_count": null,
   "id": "3e4eb4ce",
   "metadata": {},
   "outputs": [],
   "source": [
    "df = pd.read_csv('Merged_data.csv')\n",
    "#df.drop('Unnamed: 0', inplace=True, axis=1)\n",
    "\n",
    "df[\"Date\"] = df[\"Date\"].astype('str')\n",
    "df['Datetime']=pd.to_datetime(df.Date + ' ' + df.Time, format='%Y/%m/%d %H:%M:%S')"
   ]
  },
  {
   "cell_type": "code",
   "execution_count": null,
   "id": "13c6a827",
   "metadata": {},
   "outputs": [],
   "source": [
    "data_aug = df.copy()"
   ]
  },
  {
   "cell_type": "code",
   "execution_count": null,
   "id": "76eb3ade",
   "metadata": {},
   "outputs": [],
   "source": [
    "data_aug = add_time_vars(data_aug, onehot=True)\n",
    "data_aug.drop(['Year', 'Month', 'Day', 'Weekday', 'Hour', 'Minute'], inplace=True, axis=1)"
   ]
  },
  {
   "cell_type": "code",
   "execution_count": null,
   "id": "f9662761",
   "metadata": {
    "scrolled": true
   },
   "outputs": [],
   "source": [
    "predictor_cols = data_aug.columns.to_list()[5:]\n",
    "predictions, pred = predict(data_aug, 'Erasmuspark', predictor_cols, 1000)"
   ]
  },
  {
   "cell_type": "code",
   "execution_count": null,
   "id": "e2c40f88",
   "metadata": {},
   "outputs": [],
   "source": [
    "predictor_cols = data_aug.columns.to_list()[4:]\n",
    "predictions = predict(data_aug, 'Oosterpark', predictor_cols, 1000)"
   ]
  }
 ],
 "metadata": {
  "kernelspec": {
   "display_name": "Python 3 (ipykernel)",
   "language": "python",
   "name": "python3"
  },
  "language_info": {
   "codemirror_mode": {
    "name": "ipython",
    "version": 3
   },
   "file_extension": ".py",
   "mimetype": "text/x-python",
   "name": "python",
   "nbconvert_exporter": "python",
   "pygments_lexer": "ipython3",
   "version": "3.7.1"
  }
 },
 "nbformat": 4,
 "nbformat_minor": 5
}
