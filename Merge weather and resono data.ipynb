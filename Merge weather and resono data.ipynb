{
 "cells": [
  {
   "cell_type": "markdown",
   "id": "4f476259",
   "metadata": {},
   "source": [
    "# Import all libraries\n"
   ]
  },
  {
   "cell_type": "code",
   "execution_count": 1,
   "id": "a7a290ad",
   "metadata": {},
   "outputs": [],
   "source": [
    "import glob\n",
    "import numpy as np\n",
    "import pandas as pd\n",
    "from datetime import timedelta\n",
    "import datetime as dt\n",
    "import matplotlib.pyplot as plt\n",
    "import seaborn as sns\n",
    "import warnings\n",
    "\n",
    "warnings.filterwarnings(action='once')"
   ]
  },
  {
   "cell_type": "markdown",
   "id": "39611b96",
   "metadata": {},
   "source": [
    "## Reading and preprocessing dataframe"
   ]
  },
  {
   "cell_type": "code",
   "execution_count": 2,
   "id": "0e7ab03d",
   "metadata": {},
   "outputs": [],
   "source": [
    "def preprocessWeather(path_url):\n",
    "    df = pd.read_csv(path_url)\n",
    "    df.columns = df.columns.str.replace(' ', '')\n",
    "    df[['FH', 'T', 'RH']] = df[['FH', 'T', 'RH']] / 10\n",
    "    df['YYYYMMDD'] = pd.to_datetime(df['YYYYMMDD'], format='%Y%m%d')\n",
    "    df['date'] = df['YYYYMMDD'] +  pd.to_timedelta(df['HH'], unit='h')\n",
    "    df.drop(columns = ['#STN', 'DD', 'FF', 'FX', 'T10N', 'TD', 'Q', \n",
    "                       'P', 'VV', 'U', 'WW', 'IX', 'HH', 'YYYYMMDD'], inplace=True)\n",
    "    df.set_index('date', inplace=True)\n",
    "    return df\n",
    "\n",
    "def preprocessResono(path_url):\n",
    "    df = pd.read_csv(path_url)\n",
    "    return df"
   ]
  },
  {
   "cell_type": "code",
   "execution_count": 3,
   "id": "51eeaedf",
   "metadata": {
    "scrolled": true
   },
   "outputs": [
    {
     "name": "stderr",
     "output_type": "stream",
     "text": [
      "C:\\Users\\olivi\\anaconda3\\envs\\my-r-env\\lib\\site-packages\\ipykernel_launcher.py:1: DtypeWarning: Columns (15,16,20,21,22,23,24) have mixed types.Specify dtype option on import or set low_memory=False.\n",
      "  \"\"\"Entry point for launching an IPython kernel.\n"
     ]
    }
   ],
   "source": [
    "df_Weather2020 = preprocessWeather(\"KNMI (Weather) 2020-2021/uurgeg_240_2011-2020.txt\")\n",
    "df_Weather2021 = preprocessWeather(\"KNMI (Weather) 2020-2021/uurgeg_240_2021-2030.txt\")\n",
    "\n",
    "df_Resono_Oct_Dec = preprocessResono(\"Resono.csv\")"
   ]
  },
  {
   "cell_type": "markdown",
   "id": "6fc9a55b",
   "metadata": {},
   "source": [
    "#### Preprocessing of the weather data"
   ]
  },
  {
   "cell_type": "code",
   "execution_count": 4,
   "id": "adb83432",
   "metadata": {},
   "outputs": [],
   "source": [
    "df_weather = pd.concat([df_Weather2020, df_Weather2021], axis=0)\n",
    "df_weather = df_weather.loc['2020-10': '2022-01-01 00:00']\n",
    "\n",
    "cols_int = ['SQ', 'DR', 'N', 'M', 'R', 'S', 'O', 'Y']\n",
    "cols_float = ['FH', 'T']\n",
    "\n",
    "df_weather[cols_float] = df_weather[cols_float].apply(pd.to_numeric, errors='coerce', axis=1)\n",
    "df_weather[cols_int] = df_weather[cols_int].apply(pd.to_numeric, errors='coerce', axis=1)\n",
    "df_weather['RH'] = df_weather['RH'].apply(lambda x: 0.05 if x==-0.1 else x)\n"
   ]
  },
  {
   "cell_type": "code",
   "execution_count": 5,
   "id": "9e624907",
   "metadata": {},
   "outputs": [],
   "source": [
    "df_weather_resample = pd.concat([df_weather[['FH', 'T', 'N']].resample('15T').interpolate(method='linear'),\n",
    "                    df_weather[['RH', 'DR', 'SQ', 'M', 'R', 'S', 'O', 'Y']].resample('15T').bfill()],\n",
    "                   axis=1)\n",
    "\n",
    "df_weather_resample[['DR', 'SQ']] = df_weather_resample[['DR', 'SQ']] * 1.5\n",
    "df_weather_resample['RH'] = df_weather_resample['RH'] / 4"
   ]
  },
  {
   "cell_type": "markdown",
   "id": "344ae1af",
   "metadata": {},
   "source": [
    "#### Merging the Resono and weather data and rename columns"
   ]
  },
  {
   "cell_type": "code",
   "execution_count": 6,
   "id": "4ec5e16e",
   "metadata": {},
   "outputs": [],
   "source": [
    "df_Resono = df_Resono_Oct_Dec.drop(columns = [\"Unnamed: 0\"])\n",
    "df_Resono['Start'] = pd.to_datetime(df_Resono['Start'])\n",
    "df_Resono['Start'] = pd.to_datetime(df_Resono['Start'].dt.strftime(\"%Y-%m-%d %H:%M:%S\"))"
   ]
  },
  {
   "cell_type": "code",
   "execution_count": 7,
   "id": "e74753b6",
   "metadata": {},
   "outputs": [],
   "source": [
    "df_Resono_index = df_Resono.set_index('Start')\n",
    "df_Resono_index = df_Resono_index.loc['2020-10':]"
   ]
  },
  {
   "cell_type": "code",
   "execution_count": 8,
   "id": "b3b2aa44",
   "metadata": {
    "scrolled": false
   },
   "outputs": [
    {
     "data": {
      "text/html": [
       "<div>\n",
       "<style scoped>\n",
       "    .dataframe tbody tr th:only-of-type {\n",
       "        vertical-align: middle;\n",
       "    }\n",
       "\n",
       "    .dataframe tbody tr th {\n",
       "        vertical-align: top;\n",
       "    }\n",
       "\n",
       "    .dataframe thead th {\n",
       "        text-align: right;\n",
       "    }\n",
       "</style>\n",
       "<table border=\"1\" class=\"dataframe\">\n",
       "  <thead>\n",
       "    <tr style=\"text-align: right;\">\n",
       "      <th></th>\n",
       "      <th>Location</th>\n",
       "      <th>Visits</th>\n",
       "      <th>Start_Dates</th>\n",
       "      <th>Start_Time</th>\n",
       "      <th>Windspeed</th>\n",
       "      <th>Temperature</th>\n",
       "      <th>Clouds</th>\n",
       "      <th>Rain amount</th>\n",
       "      <th>Rain duration</th>\n",
       "      <th>Sun duration</th>\n",
       "      <th>Fog</th>\n",
       "      <th>Rain</th>\n",
       "      <th>Snow</th>\n",
       "      <th>Thunder</th>\n",
       "      <th>Ice</th>\n",
       "    </tr>\n",
       "  </thead>\n",
       "  <tbody>\n",
       "    <tr>\n",
       "      <th>2020-10-01 00:00:00</th>\n",
       "      <td>Erasmuspark</td>\n",
       "      <td>731</td>\n",
       "      <td>2020-10-01</td>\n",
       "      <td>00:00:00</td>\n",
       "      <td>5.0</td>\n",
       "      <td>15.600</td>\n",
       "      <td>8.0</td>\n",
       "      <td>0.0</td>\n",
       "      <td>0.0</td>\n",
       "      <td>0.0</td>\n",
       "      <td>0</td>\n",
       "      <td>0</td>\n",
       "      <td>0</td>\n",
       "      <td>0</td>\n",
       "      <td>0</td>\n",
       "    </tr>\n",
       "    <tr>\n",
       "      <th>2020-10-01 00:00:00</th>\n",
       "      <td>Oosterpark</td>\n",
       "      <td>107</td>\n",
       "      <td>2020-10-01</td>\n",
       "      <td>00:00:00</td>\n",
       "      <td>5.0</td>\n",
       "      <td>15.600</td>\n",
       "      <td>8.0</td>\n",
       "      <td>0.0</td>\n",
       "      <td>0.0</td>\n",
       "      <td>0.0</td>\n",
       "      <td>0</td>\n",
       "      <td>0</td>\n",
       "      <td>0</td>\n",
       "      <td>0</td>\n",
       "      <td>0</td>\n",
       "    </tr>\n",
       "    <tr>\n",
       "      <th>2020-10-01 00:00:00</th>\n",
       "      <td>Rembrandtpark</td>\n",
       "      <td>523</td>\n",
       "      <td>2020-10-01</td>\n",
       "      <td>00:00:00</td>\n",
       "      <td>5.0</td>\n",
       "      <td>15.600</td>\n",
       "      <td>8.0</td>\n",
       "      <td>0.0</td>\n",
       "      <td>0.0</td>\n",
       "      <td>0.0</td>\n",
       "      <td>0</td>\n",
       "      <td>0</td>\n",
       "      <td>0</td>\n",
       "      <td>0</td>\n",
       "      <td>0</td>\n",
       "    </tr>\n",
       "    <tr>\n",
       "      <th>2020-10-01 00:00:00</th>\n",
       "      <td>Sarphatipark</td>\n",
       "      <td>96</td>\n",
       "      <td>2020-10-01</td>\n",
       "      <td>00:00:00</td>\n",
       "      <td>5.0</td>\n",
       "      <td>15.600</td>\n",
       "      <td>8.0</td>\n",
       "      <td>0.0</td>\n",
       "      <td>0.0</td>\n",
       "      <td>0.0</td>\n",
       "      <td>0</td>\n",
       "      <td>0</td>\n",
       "      <td>0</td>\n",
       "      <td>0</td>\n",
       "      <td>0</td>\n",
       "    </tr>\n",
       "    <tr>\n",
       "      <th>2020-10-01 00:00:00</th>\n",
       "      <td>Vondelpark</td>\n",
       "      <td>41</td>\n",
       "      <td>2020-10-01</td>\n",
       "      <td>00:00:00</td>\n",
       "      <td>5.0</td>\n",
       "      <td>15.600</td>\n",
       "      <td>8.0</td>\n",
       "      <td>0.0</td>\n",
       "      <td>0.0</td>\n",
       "      <td>0.0</td>\n",
       "      <td>0</td>\n",
       "      <td>0</td>\n",
       "      <td>0</td>\n",
       "      <td>0</td>\n",
       "      <td>0</td>\n",
       "    </tr>\n",
       "    <tr>\n",
       "      <th>...</th>\n",
       "      <td>...</td>\n",
       "      <td>...</td>\n",
       "      <td>...</td>\n",
       "      <td>...</td>\n",
       "      <td>...</td>\n",
       "      <td>...</td>\n",
       "      <td>...</td>\n",
       "      <td>...</td>\n",
       "      <td>...</td>\n",
       "      <td>...</td>\n",
       "      <td>...</td>\n",
       "      <td>...</td>\n",
       "      <td>...</td>\n",
       "      <td>...</td>\n",
       "      <td>...</td>\n",
       "    </tr>\n",
       "    <tr>\n",
       "      <th>2020-12-31 23:15:00</th>\n",
       "      <td>Vondelpark</td>\n",
       "      <td>1094</td>\n",
       "      <td>2020-12-31</td>\n",
       "      <td>23:15:00</td>\n",
       "      <td>2.0</td>\n",
       "      <td>-0.625</td>\n",
       "      <td>1.0</td>\n",
       "      <td>0.0</td>\n",
       "      <td>0.0</td>\n",
       "      <td>0.0</td>\n",
       "      <td>0</td>\n",
       "      <td>0</td>\n",
       "      <td>0</td>\n",
       "      <td>0</td>\n",
       "      <td>0</td>\n",
       "    </tr>\n",
       "    <tr>\n",
       "      <th>2020-12-31 23:30:00</th>\n",
       "      <td>Erasmuspark</td>\n",
       "      <td>443</td>\n",
       "      <td>2020-12-31</td>\n",
       "      <td>23:30:00</td>\n",
       "      <td>2.0</td>\n",
       "      <td>-0.550</td>\n",
       "      <td>1.0</td>\n",
       "      <td>0.0</td>\n",
       "      <td>0.0</td>\n",
       "      <td>0.0</td>\n",
       "      <td>0</td>\n",
       "      <td>0</td>\n",
       "      <td>0</td>\n",
       "      <td>0</td>\n",
       "      <td>0</td>\n",
       "    </tr>\n",
       "    <tr>\n",
       "      <th>2020-12-31 23:30:00</th>\n",
       "      <td>Oosterpark</td>\n",
       "      <td>92</td>\n",
       "      <td>2020-12-31</td>\n",
       "      <td>23:30:00</td>\n",
       "      <td>2.0</td>\n",
       "      <td>-0.550</td>\n",
       "      <td>1.0</td>\n",
       "      <td>0.0</td>\n",
       "      <td>0.0</td>\n",
       "      <td>0.0</td>\n",
       "      <td>0</td>\n",
       "      <td>0</td>\n",
       "      <td>0</td>\n",
       "      <td>0</td>\n",
       "      <td>0</td>\n",
       "    </tr>\n",
       "    <tr>\n",
       "      <th>2020-12-31 23:30:00</th>\n",
       "      <td>Sarphatipark</td>\n",
       "      <td>923</td>\n",
       "      <td>2020-12-31</td>\n",
       "      <td>23:30:00</td>\n",
       "      <td>2.0</td>\n",
       "      <td>-0.550</td>\n",
       "      <td>1.0</td>\n",
       "      <td>0.0</td>\n",
       "      <td>0.0</td>\n",
       "      <td>0.0</td>\n",
       "      <td>0</td>\n",
       "      <td>0</td>\n",
       "      <td>0</td>\n",
       "      <td>0</td>\n",
       "      <td>0</td>\n",
       "    </tr>\n",
       "    <tr>\n",
       "      <th>2020-12-31 23:30:00</th>\n",
       "      <td>Vondelpark</td>\n",
       "      <td>1079</td>\n",
       "      <td>2020-12-31</td>\n",
       "      <td>23:30:00</td>\n",
       "      <td>2.0</td>\n",
       "      <td>-0.550</td>\n",
       "      <td>1.0</td>\n",
       "      <td>0.0</td>\n",
       "      <td>0.0</td>\n",
       "      <td>0.0</td>\n",
       "      <td>0</td>\n",
       "      <td>0</td>\n",
       "      <td>0</td>\n",
       "      <td>0</td>\n",
       "      <td>0</td>\n",
       "    </tr>\n",
       "  </tbody>\n",
       "</table>\n",
       "<p>43252 rows × 15 columns</p>\n",
       "</div>"
      ],
      "text/plain": [
       "                          Location  Visits Start_Dates Start_Time  Windspeed  \\\n",
       "2020-10-01 00:00:00    Erasmuspark     731  2020-10-01   00:00:00        5.0   \n",
       "2020-10-01 00:00:00     Oosterpark     107  2020-10-01   00:00:00        5.0   \n",
       "2020-10-01 00:00:00  Rembrandtpark     523  2020-10-01   00:00:00        5.0   \n",
       "2020-10-01 00:00:00   Sarphatipark      96  2020-10-01   00:00:00        5.0   \n",
       "2020-10-01 00:00:00     Vondelpark      41  2020-10-01   00:00:00        5.0   \n",
       "...                            ...     ...         ...        ...        ...   \n",
       "2020-12-31 23:15:00     Vondelpark    1094  2020-12-31   23:15:00        2.0   \n",
       "2020-12-31 23:30:00    Erasmuspark     443  2020-12-31   23:30:00        2.0   \n",
       "2020-12-31 23:30:00     Oosterpark      92  2020-12-31   23:30:00        2.0   \n",
       "2020-12-31 23:30:00   Sarphatipark     923  2020-12-31   23:30:00        2.0   \n",
       "2020-12-31 23:30:00     Vondelpark    1079  2020-12-31   23:30:00        2.0   \n",
       "\n",
       "                     Temperature  Clouds  Rain amount  Rain duration  \\\n",
       "2020-10-01 00:00:00       15.600     8.0          0.0            0.0   \n",
       "2020-10-01 00:00:00       15.600     8.0          0.0            0.0   \n",
       "2020-10-01 00:00:00       15.600     8.0          0.0            0.0   \n",
       "2020-10-01 00:00:00       15.600     8.0          0.0            0.0   \n",
       "2020-10-01 00:00:00       15.600     8.0          0.0            0.0   \n",
       "...                          ...     ...          ...            ...   \n",
       "2020-12-31 23:15:00       -0.625     1.0          0.0            0.0   \n",
       "2020-12-31 23:30:00       -0.550     1.0          0.0            0.0   \n",
       "2020-12-31 23:30:00       -0.550     1.0          0.0            0.0   \n",
       "2020-12-31 23:30:00       -0.550     1.0          0.0            0.0   \n",
       "2020-12-31 23:30:00       -0.550     1.0          0.0            0.0   \n",
       "\n",
       "                     Sun duration  Fog  Rain  Snow  Thunder  Ice  \n",
       "2020-10-01 00:00:00           0.0    0     0     0        0    0  \n",
       "2020-10-01 00:00:00           0.0    0     0     0        0    0  \n",
       "2020-10-01 00:00:00           0.0    0     0     0        0    0  \n",
       "2020-10-01 00:00:00           0.0    0     0     0        0    0  \n",
       "2020-10-01 00:00:00           0.0    0     0     0        0    0  \n",
       "...                           ...  ...   ...   ...      ...  ...  \n",
       "2020-12-31 23:15:00           0.0    0     0     0        0    0  \n",
       "2020-12-31 23:30:00           0.0    0     0     0        0    0  \n",
       "2020-12-31 23:30:00           0.0    0     0     0        0    0  \n",
       "2020-12-31 23:30:00           0.0    0     0     0        0    0  \n",
       "2020-12-31 23:30:00           0.0    0     0     0        0    0  \n",
       "\n",
       "[43252 rows x 15 columns]"
      ]
     },
     "execution_count": 8,
     "metadata": {},
     "output_type": "execute_result"
    }
   ],
   "source": [
    "merge_resono_weather = pd.merge(df_Resono_index, df_weather_resample, left_index=True, right_index=True, how='left')\n",
    "merge_resono_weather = merge_resono_weather.rename({'T': 'Temperature', 'N': 'Clouds', 'FH': 'Windspeed',\n",
    "                                                    'RH': 'Rain amount', 'DR': 'Rain duration' , 'SQ': 'Sun duration',\n",
    "                                                    'M': 'Fog', 'R': 'Rain', 'S': 'Snow', 'O': 'Thunder', 'Y': 'Ice'},\n",
    "                                                   axis=1) \n",
    "merge_resono_weather"
   ]
  },
  {
   "cell_type": "code",
   "execution_count": 171,
   "id": "506d916b",
   "metadata": {},
   "outputs": [
    {
     "data": {
      "text/plain": [
       "<AxesSubplot:xlabel='Rain amount', ylabel='Visits'>"
      ]
     },
     "execution_count": 171,
     "metadata": {},
     "output_type": "execute_result"
    },
    {
     "data": {
      "image/png": "[encoded data removed]",
      "text/plain": [
       "<Figure size 432x288 with 1 Axes>"
      ]
     },
     "metadata": {
      "needs_background": "light"
     },
     "output_type": "display_data"
    }
   ],
   "source": [
    "# oosterpark = merge_resono_weather[merge_resono_weather.Location == 'Vondelpark']\n",
    "# oosterpark = oosterpark[oosterpark.Visits > 250]\n",
    "# oosterpark.head()\n",
    "# oosterpark = oosterpark.between_time('08:00', '17:00')\n",
    "# oosterpark.corr()\n",
    "sns.scatterplot(data=oosterpark, x=\"Rain amount\", y=\"Visits\", hue='weekend')"
   ]
  },
  {
   "cell_type": "code",
   "execution_count": 51,
   "id": "0d37a1ba",
   "metadata": {},
   "outputs": [],
   "source": [
    "'''\n",
    "Windspeed       = Mean wind speed during the time period (in m/s)\n",
    "Temperature     = Temperature at 1.50 m at the time of observation\n",
    "Clouds          = Cloud cover (in octants), at the time of observation (9=sky invisible)\n",
    "Rain amount     = Quarterly precipitation amount\n",
    "Rain duration   = Precipitation duration during the quarterly division (in minutes)\n",
    "Sun duration    = Sunshine duration (in minutes)\n",
    "Fog             = Fog  0=no occurrence, 1=occurred during the preceding hour and/or at the time of observation\n",
    "Rain            = Rain  0=no occurrence, 1=occurred during the preceding hour and/or at the time of observation\n",
    "Snow            = Snow  0=no occurrence, 1=occurred during the preceding hour and/or at the time of observation\n",
    "Thunder         = Thunder  0=no occurrence, 1=occurred during the preceding hour and/or at the time of observation\n",
    "Ice             = Ice  0=no occurrence, 1=occurred during the preceding hour and/or at the time of observation\n",
    "'''"
   ]
  },
  {
   "cell_type": "code",
   "execution_count": 151,
   "id": "05d9f916",
   "metadata": {},
   "outputs": [],
   "source": [
    "oosterpark['weekend'] = oosterpark['index'].apply(lambda x: 1 if (x.weekday() == 5) or (x.weekday() == 6) else 0)\n",
    "# ].apply(lambda x: 0.05 if x==-0.1 else x)"
   ]
  },
  {
   "cell_type": "code",
   "execution_count": 121,
   "id": "a15cc8b6",
   "metadata": {},
   "outputs": [],
   "source": [
    "date = dt.datetime.today()"
   ]
  },
  {
   "cell_type": "code",
   "execution_count": 165,
   "id": "f90eed7c",
   "metadata": {},
   "outputs": [],
   "source": [
    "#oosterpark.set_index('index', inplace=True)\n",
    "#oosterpark.drop('level_0', axis=1, inplace=True)"
   ]
  },
  {
   "cell_type": "code",
   "execution_count": null,
   "id": "e862d5c7",
   "metadata": {},
   "outputs": [],
   "source": []
  },
  {
   "cell_type": "code",
   "execution_count": null,
   "id": "df9a4bfe",
   "metadata": {},
   "outputs": [],
   "source": []
  }
 ],
 "metadata": {
  "kernelspec": {
   "display_name": "Python 3 (ipykernel)",
   "language": "python",
   "name": "python3"
  },
  "language_info": {
   "codemirror_mode": {
    "name": "ipython",
    "version": 3
   },
   "file_extension": ".py",
   "mimetype": "text/x-python",
   "name": "python",
   "nbconvert_exporter": "python",
   "pygments_lexer": "ipython3",
   "version": "3.7.1"
  }
 },
 "nbformat": 4,
 "nbformat_minor": 5
}
