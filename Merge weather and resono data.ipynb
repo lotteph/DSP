{
 "cells": [
  {
   "cell_type": "markdown",
   "id": "4f476259",
   "metadata": {},
   "source": [
    "# Import all libraries\n"
   ]
  },
  {
   "cell_type": "code",
   "execution_count": 1,
   "id": "a7a290ad",
   "metadata": {},
   "outputs": [],
   "source": [
    "import glob\n",
    "import numpy as np\n",
    "import pandas as pd\n",
    "from datetime import timedelta\n",
    "import datetime as dt\n",
    "import matplotlib.pyplot as plt\n",
    "import seaborn as sns\n",
    "import warnings\n",
    "\n",
    "warnings.filterwarnings(action='once')"
   ]
  },
  {
   "cell_type": "markdown",
   "id": "39611b96",
   "metadata": {},
   "source": [
    "## Reading and preprocessing dataframe"
   ]
  },
  {
   "cell_type": "code",
   "execution_count": 2,
   "id": "0e7ab03d",
   "metadata": {},
   "outputs": [],
   "source": [
    "def preprocessWeather(path_url):\n",
    "    df = pd.read_csv(path_url)\n",
    "    df.columns = df.columns.str.replace(' ', '')\n",
    "    df[['FH', 'T']] = df[['FH', 'T']] / 10\n",
    "    df['YYYYMMDD'] = pd.to_datetime(df['YYYYMMDD'], format='%Y%m%d')\n",
    "    df['date'] = df['YYYYMMDD'] +  pd.to_timedelta(df['HH'], unit='h')\n",
    "    df.drop(columns = ['#STN', 'DD', 'FF', 'FX', 'T10N', 'TD', 'Q', 'RH', \n",
    "                       'P', 'VV', 'U', 'WW', 'IX', 'HH', 'YYYYMMDD'], inplace=True)\n",
    "    df.set_index('date', inplace=True)\n",
    "    return df\n",
    "\n",
    "def preprocessResono(path_url):\n",
    "    df = pd.read_csv(path_url)\n",
    "    return df"
   ]
  },
  {
   "cell_type": "code",
   "execution_count": 3,
   "id": "51eeaedf",
   "metadata": {
    "scrolled": true
   },
   "outputs": [
    {
     "name": "stderr",
     "output_type": "stream",
     "text": [
      "C:\\Users\\olivi\\anaconda3\\envs\\my-r-env\\lib\\site-packages\\ipykernel_launcher.py:1: DtypeWarning: Columns (15,16,20,21,22,23,24) have mixed types.Specify dtype option on import or set low_memory=False.\n",
      "  \"\"\"Entry point for launching an IPython kernel.\n"
     ]
    }
   ],
   "source": [
    "df_Weather2020 = preprocessWeather(\"KNMI (Weather) 2020-2021/uurgeg_240_2011-2020.txt\")\n",
    "df_Weather2021 = preprocessWeather(\"KNMI (Weather) 2020-2021/uurgeg_240_2021-2030.txt\")\n",
    "\n",
    "df_Resono_Oct_Dec = preprocessResono(\"Resono_Oct_Dec.csv\")"
   ]
  },
  {
   "cell_type": "code",
   "execution_count": 4,
   "id": "adb83432",
   "metadata": {},
   "outputs": [],
   "source": [
    "df_weather = pd.concat([df_Weather2020, df_Weather2021], axis=0)\n",
    "df_weather = df_weather.loc['2020-10': '2022-01-01 00:00']\n",
    "\n",
    "cols_int = ['SQ', 'DR', 'N', 'M', 'R', 'S', 'O', 'Y']\n",
    "cols_float = ['FH', 'T']\n",
    "\n",
    "df_weather[cols_float] = df_weather[cols_float].apply(pd.to_numeric, errors='coerce', axis=1)\n",
    "df_weather[cols_int] = df_weather[cols_int].apply(pd.to_numeric, errors='coerce', axis=1)"
   ]
  },
  {
   "cell_type": "code",
   "execution_count": 5,
   "id": "4ec5e16e",
   "metadata": {},
   "outputs": [],
   "source": [
    "df_Resono = df_Resono_Oct_Dec.drop(columns = [\"Unnamed: 0\", \"Resono-ID\", \"End\", \"Locationcode\"])\n",
    "df_Resono['Start'] = pd.to_datetime(df_Resono['Start'])\n",
    "df_Resono['Start'] = pd.to_datetime(df_Resono['Start'].dt.strftime(\"%Y-%m-%d %H:%M:%S\"))"
   ]
  },
  {
   "cell_type": "code",
   "execution_count": 6,
   "id": "e74753b6",
   "metadata": {},
   "outputs": [],
   "source": [
    "df_Resono_index = df_Resono.set_index('Start')\n",
    "df_Resono_index = df_Resono_index.loc['2020-10':]"
   ]
  },
  {
   "cell_type": "code",
   "execution_count": 7,
   "id": "b3b2aa44",
   "metadata": {},
   "outputs": [],
   "source": [
    "merged = pd.merge(df_Resono_index, df_weather, left_index=True, right_index=True, how='left')"
   ]
  },
  {
   "cell_type": "code",
   "execution_count": 8,
   "id": "e529112c",
   "metadata": {},
   "outputs": [],
   "source": [
    "# Some entries are duplicate, so we need to take the average\n",
    "df_average_visits = df_Resono \n",
    "df_average_visits['Start'] = pd.to_datetime(df_average_visits['Start'])\n",
    "df_average_visits = df_average_visits.groupby(['Location', 'Start']).mean().reset_index()\n",
    "df_average_visits['End'] = df_average_visits['Start'] + dt.timedelta(minutes=14, seconds=59)\n",
    "df_average_visits['Visits'] = df_average_visits['Visits'].astype(int)"
   ]
  },
  {
   "cell_type": "code",
   "execution_count": 9,
   "id": "0d682614",
   "metadata": {},
   "outputs": [
    {
     "data": {
      "text/plain": [
       "<AxesSubplot:xlabel='Start', ylabel='Visits'>"
      ]
     },
     "execution_count": 9,
     "metadata": {},
     "output_type": "execute_result"
    },
    {
     "data": {
      "image/png": "[encoded data removed]",
      "text/plain": [
       "<Figure size 432x288 with 1 Axes>"
      ]
     },
     "metadata": {
      "needs_background": "light"
     },
     "output_type": "display_data"
    }
   ],
   "source": [
    "test = df_Resono_index[df_Resono_index.Location == 'Centraal station'].loc['2020 December 16']\n",
    "test = test.reset_index()\n",
    "test.drop_duplicates(subset=['Start'], inplace=True)\n",
    "test.set_index('Start', inplace=True)\n",
    "test.resample('1H').sum()\n",
    "sns.lineplot(data=test, x=test.index, y='Visits')"
   ]
  },
  {
   "cell_type": "code",
   "execution_count": 29,
   "id": "ebe3e3ba",
   "metadata": {},
   "outputs": [
    {
     "data": {
      "text/html": [
       "<div>\n",
       "<style scoped>\n",
       "    .dataframe tbody tr th:only-of-type {\n",
       "        vertical-align: middle;\n",
       "    }\n",
       "\n",
       "    .dataframe tbody tr th {\n",
       "        vertical-align: top;\n",
       "    }\n",
       "\n",
       "    .dataframe thead th {\n",
       "        text-align: right;\n",
       "    }\n",
       "</style>\n",
       "<table border=\"1\" class=\"dataframe\">\n",
       "  <thead>\n",
       "    <tr style=\"text-align: right;\">\n",
       "      <th></th>\n",
       "      <th>Location</th>\n",
       "      <th>Visits</th>\n",
       "      <th>Start_Dates</th>\n",
       "      <th>Start_Time</th>\n",
       "      <th>End_Dates</th>\n",
       "      <th>End_Time</th>\n",
       "    </tr>\n",
       "    <tr>\n",
       "      <th>Start</th>\n",
       "      <th></th>\n",
       "      <th></th>\n",
       "      <th></th>\n",
       "      <th></th>\n",
       "      <th></th>\n",
       "      <th></th>\n",
       "    </tr>\n",
       "  </thead>\n",
       "  <tbody>\n",
       "    <tr>\n",
       "      <th>2020-10-01 00:00:00</th>\n",
       "      <td>Planciusbuurt Zuid</td>\n",
       "      <td>13</td>\n",
       "      <td>2020-10-01</td>\n",
       "      <td>00:00:00</td>\n",
       "      <td>2020-10-01</td>\n",
       "      <td>00:14:59</td>\n",
       "    </tr>\n",
       "    <tr>\n",
       "      <th>2020-10-01 00:00:00</th>\n",
       "      <td>Marnixbuurt Midden</td>\n",
       "      <td>93</td>\n",
       "      <td>2020-10-01</td>\n",
       "      <td>00:00:00</td>\n",
       "      <td>2020-10-01</td>\n",
       "      <td>00:14:59</td>\n",
       "    </tr>\n",
       "    <tr>\n",
       "      <th>2020-10-01 00:00:00</th>\n",
       "      <td>Planciusbuurt Noord</td>\n",
       "      <td>51</td>\n",
       "      <td>2020-10-01</td>\n",
       "      <td>00:00:00</td>\n",
       "      <td>2020-10-01</td>\n",
       "      <td>00:14:59</td>\n",
       "    </tr>\n",
       "    <tr>\n",
       "      <th>2020-10-01 00:00:00</th>\n",
       "      <td>Kleine Gartmanplantsoen</td>\n",
       "      <td>21</td>\n",
       "      <td>2020-10-01</td>\n",
       "      <td>00:00:00</td>\n",
       "      <td>2020-10-01</td>\n",
       "      <td>00:14:59</td>\n",
       "    </tr>\n",
       "    <tr>\n",
       "      <th>2020-10-01 00:00:00</th>\n",
       "      <td>Leidsebuurt Noordwest</td>\n",
       "      <td>55</td>\n",
       "      <td>2020-10-01</td>\n",
       "      <td>00:00:00</td>\n",
       "      <td>2020-10-01</td>\n",
       "      <td>00:14:59</td>\n",
       "    </tr>\n",
       "    <tr>\n",
       "      <th>...</th>\n",
       "      <td>...</td>\n",
       "      <td>...</td>\n",
       "      <td>...</td>\n",
       "      <td>...</td>\n",
       "      <td>...</td>\n",
       "      <td>...</td>\n",
       "    </tr>\n",
       "    <tr>\n",
       "      <th>2020-12-31 23:30:00</th>\n",
       "      <td>Station RAI</td>\n",
       "      <td>12</td>\n",
       "      <td>2020-12-31</td>\n",
       "      <td>23:30:00</td>\n",
       "      <td>2020-12-31</td>\n",
       "      <td>23:44:59</td>\n",
       "    </tr>\n",
       "    <tr>\n",
       "      <th>2020-12-31 23:15:00</th>\n",
       "      <td>Muiderpoortstation</td>\n",
       "      <td>18</td>\n",
       "      <td>2020-12-31</td>\n",
       "      <td>23:15:00</td>\n",
       "      <td>2020-12-31</td>\n",
       "      <td>23:29:59</td>\n",
       "    </tr>\n",
       "    <tr>\n",
       "      <th>2020-12-31 23:30:00</th>\n",
       "      <td>Muiderpoortstation</td>\n",
       "      <td>14</td>\n",
       "      <td>2020-12-31</td>\n",
       "      <td>23:30:00</td>\n",
       "      <td>2020-12-31</td>\n",
       "      <td>23:44:59</td>\n",
       "    </tr>\n",
       "    <tr>\n",
       "      <th>2020-12-31 23:30:00</th>\n",
       "      <td>Busstation Lelylaan</td>\n",
       "      <td>2</td>\n",
       "      <td>2020-12-31</td>\n",
       "      <td>23:30:00</td>\n",
       "      <td>2020-12-31</td>\n",
       "      <td>23:44:59</td>\n",
       "    </tr>\n",
       "    <tr>\n",
       "      <th>2020-12-31 23:30:00</th>\n",
       "      <td>Winkelcentrum Amstelveen</td>\n",
       "      <td>115</td>\n",
       "      <td>2020-12-31</td>\n",
       "      <td>23:30:00</td>\n",
       "      <td>2020-12-31</td>\n",
       "      <td>23:44:59</td>\n",
       "    </tr>\n",
       "  </tbody>\n",
       "</table>\n",
       "<p>5258544 rows × 6 columns</p>\n",
       "</div>"
      ],
      "text/plain": [
       "                                     Location  Visits Start_Dates Start_Time  \\\n",
       "Start                                                                          \n",
       "2020-10-01 00:00:00        Planciusbuurt Zuid      13  2020-10-01   00:00:00   \n",
       "2020-10-01 00:00:00        Marnixbuurt Midden      93  2020-10-01   00:00:00   \n",
       "2020-10-01 00:00:00       Planciusbuurt Noord      51  2020-10-01   00:00:00   \n",
       "2020-10-01 00:00:00   Kleine Gartmanplantsoen      21  2020-10-01   00:00:00   \n",
       "2020-10-01 00:00:00     Leidsebuurt Noordwest      55  2020-10-01   00:00:00   \n",
       "...                                       ...     ...         ...        ...   \n",
       "2020-12-31 23:30:00               Station RAI      12  2020-12-31   23:30:00   \n",
       "2020-12-31 23:15:00        Muiderpoortstation      18  2020-12-31   23:15:00   \n",
       "2020-12-31 23:30:00        Muiderpoortstation      14  2020-12-31   23:30:00   \n",
       "2020-12-31 23:30:00       Busstation Lelylaan       2  2020-12-31   23:30:00   \n",
       "2020-12-31 23:30:00  Winkelcentrum Amstelveen     115  2020-12-31   23:30:00   \n",
       "\n",
       "                      End_Dates  End_Time  \n",
       "Start                                      \n",
       "2020-10-01 00:00:00  2020-10-01  00:14:59  \n",
       "2020-10-01 00:00:00  2020-10-01  00:14:59  \n",
       "2020-10-01 00:00:00  2020-10-01  00:14:59  \n",
       "2020-10-01 00:00:00  2020-10-01  00:14:59  \n",
       "2020-10-01 00:00:00  2020-10-01  00:14:59  \n",
       "...                         ...       ...  \n",
       "2020-12-31 23:30:00  2020-12-31  23:44:59  \n",
       "2020-12-31 23:15:00  2020-12-31  23:29:59  \n",
       "2020-12-31 23:30:00  2020-12-31  23:44:59  \n",
       "2020-12-31 23:30:00  2020-12-31  23:44:59  \n",
       "2020-12-31 23:30:00  2020-12-31  23:44:59  \n",
       "\n",
       "[5258544 rows x 6 columns]"
      ]
     },
     "execution_count": 29,
     "metadata": {},
     "output_type": "execute_result"
    }
   ],
   "source": [
    "df_Resono_index"
   ]
  },
  {
   "cell_type": "code",
   "execution_count": null,
   "id": "9136caf3",
   "metadata": {},
   "outputs": [],
   "source": []
  }
 ],
 "metadata": {
  "kernelspec": {
   "display_name": "Python 3 (ipykernel)",
   "language": "python",
   "name": "python3"
  },
  "language_info": {
   "codemirror_mode": {
    "name": "ipython",
    "version": 3
   },
   "file_extension": ".py",
   "mimetype": "text/x-python",
   "name": "python",
   "nbconvert_exporter": "python",
   "pygments_lexer": "ipython3",
   "version": "3.7.1"
  }
 },
 "nbformat": 4,
 "nbformat_minor": 5
}
