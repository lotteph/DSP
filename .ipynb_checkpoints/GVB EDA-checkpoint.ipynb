{
 "cells": [
  {
   "cell_type": "code",
   "execution_count": null,
   "id": "7f2287da",
   "metadata": {},
   "outputs": [],
   "source": [
    "import matplotlib.pyplot as plt\n",
    "import pandas as pd\n",
    "import glob"
   ]
  },
  {
   "cell_type": "code",
   "execution_count": null,
   "id": "19cf8a40",
   "metadata": {},
   "outputs": [],
   "source": [
    "path = \"Data/GVB 2020-02/02/03/\"\n",
    "filenames = glob.glob(path + \"*.csv\")\n",
    "print(filenames)\n",
    "\n",
    "df_list = []\n",
    "\n",
    "for i in range(len(filenames)):\n",
    "    try:\n",
    "        data = pd.read_csv(filenames[i], sep=\";\")\n",
    "        df_list.append(data)\n",
    "    except:\n",
    "        pass"
   ]
  },
  {
   "cell_type": "code",
   "execution_count": null,
   "id": "28cc71f2",
   "metadata": {},
   "outputs": [],
   "source": [
    "data = df_list[0].dropna()\n",
    "\n",
    "grouped_data = data.groupby(by=[\"AankomstHalteNaam\", \"AankomstLat\", \"AankomstLon\"], as_index=False)[\"AantalReizen\"].sum()\n",
    "\n",
    "print(data.head(10))\n",
    "\n",
    "grouped_data.head(10)"
   ]
  },
  {
   "cell_type": "code",
   "execution_count": null,
   "id": "d2833b6c",
   "metadata": {},
   "outputs": [],
   "source": [
    "data1 = df_list[1].dropna()\n",
    "data3 = df_list[3].dropna()\n",
    "\n",
    "grouped_data1 = data1.groupby(by=[\"UurgroepOmschrijving (van aankomst)\", \"AankomstHalteNaam\"], as_index=False)[\"AantalReizen\"].sum()\n",
    "grouped_data3 = data3.groupby(by=[\"UurgroepOmschrijving (van vertrek)\", \"VertrekHalteNaam\"], as_index=False)[\"AantalReizen\"].sum()\n",
    "\n",
    "print(grouped_data1.head(10))\n",
    "grouped_data3.head(10)"
   ]
  },
  {
   "cell_type": "code",
   "execution_count": null,
   "id": "879ff7a4",
   "metadata": {},
   "outputs": [],
   "source": []
  }
 ],
 "metadata": {
  "kernelspec": {
   "display_name": "Python 3",
   "language": "python",
   "name": "python3"
  },
  "language_info": {
   "codemirror_mode": {
    "name": "ipython",
    "version": 3
   },
   "file_extension": ".py",
   "mimetype": "text/x-python",
   "name": "python",
   "nbconvert_exporter": "python",
   "pygments_lexer": "ipython3",
   "version": "3.8.8"
  }
 },
 "nbformat": 4,
 "nbformat_minor": 5
}
