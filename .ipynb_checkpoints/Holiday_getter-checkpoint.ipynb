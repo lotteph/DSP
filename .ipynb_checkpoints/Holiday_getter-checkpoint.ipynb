{
 "cells": [
  {
   "cell_type": "markdown",
   "metadata": {},
   "source": [
    "**Holidays in the Netherlands**"
   ]
  },
  {
   "cell_type": "code",
   "execution_count": 1,
   "metadata": {},
   "outputs": [],
   "source": [
    "# !pip install workalendar"
   ]
  },
  {
   "cell_type": "code",
   "execution_count": 1,
   "metadata": {},
   "outputs": [],
   "source": [
    "from workalendar.europe import Netherlands\n",
    "from workalendar.europe import NetherlandsWithSchoolHolidays"
   ]
  },
  {
   "cell_type": "code",
   "execution_count": 13,
   "metadata": {},
   "outputs": [
    {
     "data": {
      "text/plain": [
       "[(datetime.date(2020, 1, 1), 'Christmas holiday'),\n",
       " (datetime.date(2020, 1, 1), 'New year'),\n",
       " (datetime.date(2020, 1, 1), 'New year'),\n",
       " (datetime.date(2020, 1, 2), 'Christmas holiday'),\n",
       " (datetime.date(2020, 1, 3), 'Christmas holiday'),\n",
       " (datetime.date(2020, 1, 4), 'Christmas holiday'),\n",
       " (datetime.date(2020, 1, 5), 'Christmas holiday'),\n",
       " (datetime.date(2020, 2, 15), 'Spring holiday'),\n",
       " (datetime.date(2020, 2, 16), 'Spring holiday'),\n",
       " (datetime.date(2020, 2, 17), 'Spring holiday'),\n",
       " (datetime.date(2020, 2, 18), 'Spring holiday'),\n",
       " (datetime.date(2020, 2, 19), 'Spring holiday'),\n",
       " (datetime.date(2020, 2, 20), 'Spring holiday'),\n",
       " (datetime.date(2020, 2, 21), 'Spring holiday'),\n",
       " (datetime.date(2020, 2, 22), 'Spring holiday'),\n",
       " (datetime.date(2020, 2, 23), 'Spring holiday'),\n",
       " (datetime.date(2020, 4, 10), 'Good Friday'),\n",
       " (datetime.date(2020, 4, 10), 'Good Friday'),\n",
       " (datetime.date(2020, 4, 12), 'Easter Sunday'),\n",
       " (datetime.date(2020, 4, 12), 'Easter Sunday'),\n",
       " (datetime.date(2020, 4, 13), 'Easter Monday'),\n",
       " (datetime.date(2020, 4, 13), 'Easter Monday'),\n",
       " (datetime.date(2020, 4, 25), 'May holiday'),\n",
       " (datetime.date(2020, 4, 26), 'May holiday'),\n",
       " (datetime.date(2020, 4, 27), \"King's day\"),\n",
       " (datetime.date(2020, 4, 27), \"King's day\"),\n",
       " (datetime.date(2020, 4, 27), 'May holiday'),\n",
       " (datetime.date(2020, 4, 28), 'May holiday'),\n",
       " (datetime.date(2020, 4, 29), 'May holiday'),\n",
       " (datetime.date(2020, 4, 30), 'May holiday'),\n",
       " (datetime.date(2020, 5, 1), 'May holiday'),\n",
       " (datetime.date(2020, 5, 2), 'May holiday'),\n",
       " (datetime.date(2020, 5, 3), 'May holiday'),\n",
       " (datetime.date(2020, 5, 5), 'Liberation Day'),\n",
       " (datetime.date(2020, 5, 5), 'Liberation Day'),\n",
       " (datetime.date(2020, 5, 21), 'Ascension Thursday'),\n",
       " (datetime.date(2020, 5, 21), 'Ascension Thursday'),\n",
       " (datetime.date(2020, 5, 31), 'Whit Sunday'),\n",
       " (datetime.date(2020, 5, 31), 'Whit Sunday'),\n",
       " (datetime.date(2020, 6, 1), 'Whit Monday'),\n",
       " (datetime.date(2020, 6, 1), 'Whit Monday'),\n",
       " (datetime.date(2020, 7, 4), 'Summer holiday'),\n",
       " (datetime.date(2020, 7, 5), 'Summer holiday'),\n",
       " (datetime.date(2020, 7, 6), 'Summer holiday'),\n",
       " (datetime.date(2020, 7, 7), 'Summer holiday'),\n",
       " (datetime.date(2020, 7, 8), 'Summer holiday'),\n",
       " (datetime.date(2020, 7, 9), 'Summer holiday'),\n",
       " (datetime.date(2020, 7, 10), 'Summer holiday'),\n",
       " (datetime.date(2020, 7, 11), 'Summer holiday'),\n",
       " (datetime.date(2020, 7, 12), 'Summer holiday'),\n",
       " (datetime.date(2020, 7, 13), 'Summer holiday'),\n",
       " (datetime.date(2020, 7, 14), 'Summer holiday'),\n",
       " (datetime.date(2020, 7, 15), 'Summer holiday'),\n",
       " (datetime.date(2020, 7, 16), 'Summer holiday'),\n",
       " (datetime.date(2020, 7, 17), 'Summer holiday'),\n",
       " (datetime.date(2020, 7, 18), 'Summer holiday'),\n",
       " (datetime.date(2020, 7, 19), 'Summer holiday'),\n",
       " (datetime.date(2020, 7, 20), 'Summer holiday'),\n",
       " (datetime.date(2020, 7, 21), 'Summer holiday'),\n",
       " (datetime.date(2020, 7, 22), 'Summer holiday'),\n",
       " (datetime.date(2020, 7, 23), 'Summer holiday'),\n",
       " (datetime.date(2020, 7, 24), 'Summer holiday'),\n",
       " (datetime.date(2020, 7, 25), 'Summer holiday'),\n",
       " (datetime.date(2020, 7, 26), 'Summer holiday'),\n",
       " (datetime.date(2020, 7, 27), 'Summer holiday'),\n",
       " (datetime.date(2020, 7, 28), 'Summer holiday'),\n",
       " (datetime.date(2020, 7, 29), 'Summer holiday'),\n",
       " (datetime.date(2020, 7, 30), 'Summer holiday'),\n",
       " (datetime.date(2020, 7, 31), 'Summer holiday'),\n",
       " (datetime.date(2020, 8, 1), 'Summer holiday'),\n",
       " (datetime.date(2020, 8, 2), 'Summer holiday'),\n",
       " (datetime.date(2020, 8, 3), 'Summer holiday'),\n",
       " (datetime.date(2020, 8, 4), 'Summer holiday'),\n",
       " (datetime.date(2020, 8, 5), 'Summer holiday'),\n",
       " (datetime.date(2020, 8, 6), 'Summer holiday'),\n",
       " (datetime.date(2020, 8, 7), 'Summer holiday'),\n",
       " (datetime.date(2020, 8, 8), 'Summer holiday'),\n",
       " (datetime.date(2020, 8, 9), 'Summer holiday'),\n",
       " (datetime.date(2020, 8, 10), 'Summer holiday'),\n",
       " (datetime.date(2020, 8, 11), 'Summer holiday'),\n",
       " (datetime.date(2020, 8, 12), 'Summer holiday'),\n",
       " (datetime.date(2020, 8, 13), 'Summer holiday'),\n",
       " (datetime.date(2020, 8, 14), 'Summer holiday'),\n",
       " (datetime.date(2020, 8, 15), 'Summer holiday'),\n",
       " (datetime.date(2020, 8, 16), 'Summer holiday'),\n",
       " (datetime.date(2020, 10, 10), 'Fall holiday'),\n",
       " (datetime.date(2020, 10, 11), 'Fall holiday'),\n",
       " (datetime.date(2020, 10, 12), 'Fall holiday'),\n",
       " (datetime.date(2020, 10, 13), 'Fall holiday'),\n",
       " (datetime.date(2020, 10, 14), 'Fall holiday'),\n",
       " (datetime.date(2020, 10, 15), 'Fall holiday'),\n",
       " (datetime.date(2020, 10, 16), 'Fall holiday'),\n",
       " (datetime.date(2020, 10, 17), 'Fall holiday'),\n",
       " (datetime.date(2020, 10, 18), 'Fall holiday'),\n",
       " (datetime.date(2020, 12, 19), 'Christmas holiday'),\n",
       " (datetime.date(2020, 12, 20), 'Christmas holiday'),\n",
       " (datetime.date(2020, 12, 21), 'Christmas holiday'),\n",
       " (datetime.date(2020, 12, 22), 'Christmas holiday'),\n",
       " (datetime.date(2020, 12, 23), 'Christmas holiday'),\n",
       " (datetime.date(2020, 12, 24), 'Christmas holiday'),\n",
       " (datetime.date(2020, 12, 25), 'Christmas Day'),\n",
       " (datetime.date(2020, 12, 25), 'Christmas Day'),\n",
       " (datetime.date(2020, 12, 25), 'Christmas holiday'),\n",
       " (datetime.date(2020, 12, 26), 'Boxing Day'),\n",
       " (datetime.date(2020, 12, 26), 'Boxing Day'),\n",
       " (datetime.date(2020, 12, 26), 'Christmas holiday'),\n",
       " (datetime.date(2020, 12, 27), 'Christmas holiday'),\n",
       " (datetime.date(2020, 12, 28), 'Christmas holiday'),\n",
       " (datetime.date(2020, 12, 29), 'Christmas holiday'),\n",
       " (datetime.date(2020, 12, 30), 'Christmas holiday'),\n",
       " (datetime.date(2020, 12, 31), 'Christmas holiday')]"
      ]
     },
     "execution_count": 13,
     "metadata": {},
     "output_type": "execute_result"
    }
   ],
   "source": [
    "# region options are ('north', 'middle','south')\n",
    "# carnival gives carnival holidays\n",
    "# school_holidays gives the school holidays\n",
    "def Get_holidays(carnival = False, school_holidays = False, year='year', region='region'):\n",
    "    Nl = Netherlands()\n",
    "    Bank_holidays = Nl.holidays(year)\n",
    "    Carnival_holidays = Netherlands.get_carnival_days(Netherlands(), year)\n",
    "    School_holidays = NetherlandsWithSchoolHolidays(region).holidays(year)\n",
    "    if (carnival == True) & (school_holidays == False):\n",
    "        holidays = Bank_holidays + Carnival_holidays\n",
    "        holidays.sort()\n",
    "        return holidays\n",
    "    elif (carnival == False) & (school_holidays == True):\n",
    "        holidays = Bank_holidays + School_holidays\n",
    "        holidays.sort()\n",
    "        return holidays\n",
    "    elif (carnival == True) and (school_holidays == True):\n",
    "        holidays = Bank_holidays + Carnival_holidays + School_holidays\n",
    "        holidays.sort()\n",
    "        return holidays\n",
    "    else:\n",
    "        return Bank_holidays\n",
    "    \n",
    "Get_holidays(carnival = False, school_holidays = True, year = 2020, region='north')\n"
   ]
  },
  {
   "cell_type": "code",
   "execution_count": 17,
   "metadata": {},
   "outputs": [],
   "source": [
    "holidays_2020_North = Get_holidays(carnival = False, school_holidays = True, year = 2020, region='north')\n",
    "holidays_2021_North = Get_holidays(carnival = False, school_holidays = True, year = 2021, region='north')\n",
    "holidays_2022_North = Get_holidays(carnival = False, school_holidays = True, year = 2022, region='north')\n",
    "holidays_2020_Middle = Get_holidays(carnival = False, school_holidays = True, year = 2020, region='middle')\n",
    "holidays_2021_Middle = Get_holidays(carnival = False, school_holidays = True, year = 2021, region='middle')\n",
    "holidays_2022_Middle = Get_holidays(carnival = False, school_holidays = True, year = 2022, region='middle')\n",
    "\n"
   ]
  },
  {
   "cell_type": "code",
   "execution_count": 19,
   "metadata": {},
   "outputs": [],
   "source": [
    "all_holidays_North= holidays_2020_North+holidays_2021_North+holidays_2022_North\n",
    "all_holidays_Middle= holidays_2020_Middle+holidays_2021_Middle+holidays_2022_Middle"
   ]
  },
  {
   "cell_type": "code",
   "execution_count": 22,
   "metadata": {},
   "outputs": [],
   "source": [
    "all_holidays = all_holidays_Middle+all_holidays_North"
   ]
  },
  {
   "cell_type": "code",
   "execution_count": 34,
   "metadata": {},
   "outputs": [
    {
     "data": {
      "text/plain": [
       "(347, 324)"
      ]
     },
     "execution_count": 34,
     "metadata": {},
     "output_type": "execute_result"
    }
   ],
   "source": [
    "len(all_holidays), len(all_holidays_North)"
   ]
  }
 ],
 "metadata": {
  "kernelspec": {
   "display_name": "Python 3 (ipykernel)",
   "language": "python",
   "name": "python3"
  },
  "language_info": {
   "codemirror_mode": {
    "name": "ipython",
    "version": 3
   },
   "file_extension": ".py",
   "mimetype": "text/x-python",
   "name": "python",
   "nbconvert_exporter": "python",
   "pygments_lexer": "ipython3",
   "version": "3.9.7"
  }
 },
 "nbformat": 4,
 "nbformat_minor": 4
}
